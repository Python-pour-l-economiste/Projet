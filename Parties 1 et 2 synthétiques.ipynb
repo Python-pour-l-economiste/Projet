{
 "cells": [
  {
   "cell_type": "markdown",
   "metadata": {},
   "source": [
    "# Quelle est l'empreinte écologique de notre assiette ? \n",
    "\n",
    "### Traitement des données \"Agribalyse\"\n",
    "\n",
    "*Camille Gaborieau, Jérome Pivard et Blanche Lalouette*"
   ]
  },
  {
   "cell_type": "markdown",
   "metadata": {},
   "source": [
    "# **I/ RECUPERATION DES DONNEES ET NETTOYAGE DE LA BASE**"
   ]
  },
  {
   "cell_type": "markdown",
   "metadata": {},
   "source": [
    "## 1) Récupération des données "
   ]
  },
  {
   "cell_type": "code",
   "execution_count": 5,
   "metadata": {},
   "outputs": [],
   "source": [
    "import numpy as np\n",
    "import pandas as pd\n",
    "%matplotlib inline\n",
    "import matplotlib.pyplot as plt\n",
    "from IPython.core.interactiveshell import InteractiveShell\n",
    "InteractiveShell.ast_node_interactivity = \"all\""
   ]
  },
  {
   "cell_type": "markdown",
   "metadata": {},
   "source": [
    "Nous avons récupéré 5 tableaux différents : \n",
    "* df_synthèse réunit les informations les plus importantes de tous les autres, en attribuant un score écologique à 2479 produits français \n",
    "* df_ingrédients rentre plus en détail sur les aliments composants les produits cités plus haut\n",
    "* df-étape retrace le chemin de nos ingrédients depuis l'agriculture jusqu'au supermarché \n",
    "* df_agri_nonbio et df_agri_bio détaillent l'empreinte écologique due à l'agriculture respectivement non biologique et biologique des produits traitées dans les tableaux précédents. "
   ]
  },
  {
   "cell_type": "code",
   "execution_count": 6,
   "metadata": {},
   "outputs": [],
   "source": [
    "df_synt = pd.read_csv (\"Agribalyse-Synthese.csv\")\n",
    "df_ingredients = pd.read_csv(\"Agribalyse_Detail ingredient.csv\")\n",
    "df_etapes = pd.read_csv(\"Agribalyse_Detail etape.csv\")\n",
    "df_agriculture = pd.ExcelFile(\"AGRIBALYSE3_partie agriculture.xlsx\")\n",
    "df_agri_1 = pd.read_excel(df_agriculture,\"AGB_agri\",header = 1)\n",
    "df_agri_2 = pd.read_excel(df_agriculture, \"AGB organic product\", header=1)"
   ]
  },
  {
   "cell_type": "markdown",
   "metadata": {},
   "source": [
    "En guise d'exemple, voici quelques informations sur notre premier tableau : "
   ]
  },
  {
   "cell_type": "code",
   "execution_count": 7,
   "metadata": {},
   "outputs": [
    {
     "name": "stdout",
     "output_type": "stream",
     "text": [
      "Code AGB                      2479\n",
      "Nom du Produit en Français    2479\n",
      "Groupe d'aliment                11\n",
      "Sous-groupe d'aliment           58\n",
      "Saisonnalité                     3\n",
      "Matériau d'emballage            19\n",
      "Livraison                        5\n",
      "Préparation                      8\n",
      "dtype: int64\n"
     ]
    }
   ],
   "source": [
    "print(df_synt[[\"Code AGB\",\"Nom du Produit en Français\",\"Groupe d'aliment\",\"Sous-groupe d'aliment\", \"Saisonnalité\", \"Matériau d'emballage\",\"Livraison\",\"Préparation\"]].nunique())"
   ]
  },
  {
   "cell_type": "markdown",
   "metadata": {},
   "source": [
    "* 2479 aliments différents (qui ont bien tous un nom différent)\n",
    "* 11 groupes et 55 sous-groupes d'aliments différents\n",
    "* 3 types de saisonnalité\n",
    "* Transport par avion est une variable indicatrice\n",
    "* 5 modalités de livraison\n",
    "* 11 types de préparation\n",
    "* 19 matériaux d'emballage\n",
    "* 14 indicateurs d'impact environnemental"
   ]
  },
  {
   "cell_type": "markdown",
   "metadata": {},
   "source": [
    "## 2) Nettoyage des données \n",
    "\n",
    "*Procédons désormais à un nettoyage de nos tableaux. Il s'agit de retirer les valeurs manquantes, enlever les colonnes inutiles (nom anglais des produits, inducateurs peu robustes), et renommer les colonnes de façon plus parlante.*\n",
    "\n",
    "### a) Tableau de synthèse\n",
    "\n",
    "*Pour le nettoyage de cette base, nous avons pour le moment adopté deux approches différentes, et avons donc deux tableaux différents avec les mêmes données, nous verrons lequel sera le plus adapté ensuite aux traitements que nous ferons: un tableau extrêmement synthétique, et un tableau avec un nettoyage plus allégé.*"
   ]
  },
  {
   "cell_type": "code",
   "execution_count": 12,
   "metadata": {},
   "outputs": [
    {
     "data": {
      "text/html": [
       "<div>\n",
       "<style scoped>\n",
       "    .dataframe tbody tr th:only-of-type {\n",
       "        vertical-align: middle;\n",
       "    }\n",
       "\n",
       "    .dataframe tbody tr th {\n",
       "        vertical-align: top;\n",
       "    }\n",
       "\n",
       "    .dataframe thead th {\n",
       "        text-align: right;\n",
       "    }\n",
       "</style>\n",
       "<table border=\"1\" class=\"dataframe\">\n",
       "  <thead>\n",
       "    <tr style=\"text-align: right;\">\n",
       "      <th></th>\n",
       "      <th>Code AGB</th>\n",
       "      <th>Code CIQUAL</th>\n",
       "      <th>Groupe d'aliment</th>\n",
       "      <th>Sous-groupe d'aliment</th>\n",
       "      <th>Nom du Produit en Français</th>\n",
       "      <th>LCI Name</th>\n",
       "      <th>Livraison</th>\n",
       "      <th>Matériau d'emballage</th>\n",
       "      <th>Préparation</th>\n",
       "      <th>DQR - Note de qualité de la donnée (1 excellente ; 5 très faible)</th>\n",
       "      <th>...</th>\n",
       "      <th>Eutrophisation terreste (mol N eq/kg de produit)</th>\n",
       "      <th>Eutrophisation eaux douces (E-03 kg P eq/kg de produit)</th>\n",
       "      <th>Eutrophisation marine (E-03 kg N eq/kg de produit)</th>\n",
       "      <th>Utilisation du sol (Pt/kg de produit)</th>\n",
       "      <th>Écotoxicité pour écosystèmes aquatiques d'eau douce (CTUe/kg de produit)</th>\n",
       "      <th>Épuisement des ressources eau (m3 depriv./kg de produit)</th>\n",
       "      <th>Épuisement des ressources énergétiques (MJ/kg de produit)</th>\n",
       "      <th>Épuisement des ressources minéraux (E-06 kg Sb eq/kg de produit)</th>\n",
       "      <th>Saisonnalité</th>\n",
       "      <th>Transport par avion (1 : par avion)</th>\n",
       "    </tr>\n",
       "  </thead>\n",
       "  <tbody>\n",
       "    <tr>\n",
       "      <th>1141</th>\n",
       "      <td>20061_1</td>\n",
       "      <td>20061.0</td>\n",
       "      <td>fruits, légumes, légumineuses et oléagineux</td>\n",
       "      <td>légumes</td>\n",
       "      <td>Haricot vert importé par avion, cru</td>\n",
       "      <td>French bean by plane, raw</td>\n",
       "      <td>Ambiant (moyenne)</td>\n",
       "      <td>Pas d'emballage</td>\n",
       "      <td>Réfrigéré chez le consommateur</td>\n",
       "      <td>2.52</td>\n",
       "      <td>...</td>\n",
       "      <td>0.205713</td>\n",
       "      <td>0.387346</td>\n",
       "      <td>19.106720</td>\n",
       "      <td>119.063840</td>\n",
       "      <td>83.567205</td>\n",
       "      <td>8.106421</td>\n",
       "      <td>154.41530</td>\n",
       "      <td>2.575316</td>\n",
       "      <td>mix de consommation FR</td>\n",
       "      <td>1.0</td>\n",
       "    </tr>\n",
       "    <tr>\n",
       "      <th>1355</th>\n",
       "      <td>13025_1</td>\n",
       "      <td>13025.0</td>\n",
       "      <td>fruits, légumes, légumineuses et oléagineux</td>\n",
       "      <td>fruits</td>\n",
       "      <td>Mangue importée par avion, pulpe, crue</td>\n",
       "      <td>Mango by plane, pulp, raw</td>\n",
       "      <td>Ambiant (moyenne)</td>\n",
       "      <td>Pas d'emballage</td>\n",
       "      <td>Pas de préparation</td>\n",
       "      <td>2.79</td>\n",
       "      <td>...</td>\n",
       "      <td>0.274655</td>\n",
       "      <td>0.487313</td>\n",
       "      <td>24.256069</td>\n",
       "      <td>32.048403</td>\n",
       "      <td>206.260910</td>\n",
       "      <td>17.622634</td>\n",
       "      <td>218.49787</td>\n",
       "      <td>3.906755</td>\n",
       "      <td>mix de consommation FR</td>\n",
       "      <td>1.0</td>\n",
       "    </tr>\n",
       "  </tbody>\n",
       "</table>\n",
       "<p>2 rows × 27 columns</p>\n",
       "</div>"
      ],
      "text/plain": [
       "     Code AGB  Code CIQUAL                             Groupe d'aliment  \\\n",
       "1141  20061_1      20061.0  fruits, légumes, légumineuses et oléagineux   \n",
       "1355  13025_1      13025.0  fruits, légumes, légumineuses et oléagineux   \n",
       "\n",
       "     Sous-groupe d'aliment              Nom du Produit en Français  \\\n",
       "1141               légumes     Haricot vert importé par avion, cru   \n",
       "1355                fruits  Mangue importée par avion, pulpe, crue   \n",
       "\n",
       "                       LCI Name          Livraison Matériau d'emballage  \\\n",
       "1141  French bean by plane, raw  Ambiant (moyenne)      Pas d'emballage   \n",
       "1355  Mango by plane, pulp, raw  Ambiant (moyenne)      Pas d'emballage   \n",
       "\n",
       "                         Préparation  \\\n",
       "1141  Réfrigéré chez le consommateur   \n",
       "1355              Pas de préparation   \n",
       "\n",
       "      DQR - Note de qualité de la donnée (1 excellente ; 5 très faible)  ...  \\\n",
       "1141                                               2.52                  ...   \n",
       "1355                                               2.79                  ...   \n",
       "\n",
       "      Eutrophisation terreste (mol N eq/kg de produit)  \\\n",
       "1141                                          0.205713   \n",
       "1355                                          0.274655   \n",
       "\n",
       "      Eutrophisation eaux douces (E-03 kg P eq/kg de produit)  \\\n",
       "1141                                           0.387346         \n",
       "1355                                           0.487313         \n",
       "\n",
       "      Eutrophisation marine (E-03 kg N eq/kg de produit)  \\\n",
       "1141                                          19.106720    \n",
       "1355                                          24.256069    \n",
       "\n",
       "      Utilisation du sol (Pt/kg de produit)  \\\n",
       "1141                             119.063840   \n",
       "1355                              32.048403   \n",
       "\n",
       "      Écotoxicité pour écosystèmes aquatiques d'eau douce (CTUe/kg de produit)  \\\n",
       "1141                                          83.567205                          \n",
       "1355                                         206.260910                          \n",
       "\n",
       "      Épuisement des ressources eau (m3 depriv./kg de produit)  \\\n",
       "1141                                           8.106421          \n",
       "1355                                          17.622634          \n",
       "\n",
       "      Épuisement des ressources énergétiques (MJ/kg de produit)  \\\n",
       "1141                                          154.41530           \n",
       "1355                                          218.49787           \n",
       "\n",
       "      Épuisement des ressources minéraux (E-06 kg Sb eq/kg de produit)  \\\n",
       "1141                                           2.575316                  \n",
       "1355                                           3.906755                  \n",
       "\n",
       "                Saisonnalité  Transport par avion (1 : par avion)  \n",
       "1141  mix de consommation FR                                  1.0  \n",
       "1355  mix de consommation FR                                  1.0  \n",
       "\n",
       "[2 rows x 27 columns]"
      ]
     },
     "execution_count": 12,
     "metadata": {},
     "output_type": "execute_result"
    }
   ],
   "source": [
    "df_synthese = df_synt.dropna()\n",
    "df_synthese"
   ]
  },
  {
   "cell_type": "code",
   "execution_count": null,
   "metadata": {},
   "outputs": [],
   "source": [
    "df_synthese.drop(['Code CIQUAL', 'LCI Name'], axis='columns', inplace=True) "
   ]
  },
  {
   "cell_type": "code",
   "execution_count": 8,
   "metadata": {},
   "outputs": [],
   "source": [
    "#On ne garde que les données qui ont un DQR (data quality ratio)plus faible qu'un certain seuil (3 par exemple) car “La Commission Européenne recommande de la prudence dans l’utilisation des données avec des DQR supérieurs à 3. Dans la base de données AGRIBALYSE, 67 % des données ont un DQR jugé bon ou très bon (1 à 3).” Garder deux tiers des données est suffisant pour avoir des résultats intéressants et un champ assez étendu.\n",
    "df_synthese = df_synthese [df_synthese[\"DQR - Note de qualité de la donnée (1 excellente ; 5 très faible)\"]<=3].copy()\n",
    "\n",
    "#On peut ne garder que celle dépassant un certain seuil (par exemple 1) au niveau de l'impact (par exemple au sens de l'indicateur précédent qui est à la fois l'un des plus robustes et l'un des plus parlants), pour éviter de considérer des aliments dont l'impact est finalement assez faible. Avantage : plus synthétique / Inconvénient : Perte d'information (compensée par notre deuxième nettoyage \"allégé\" du même tableau)\n",
    "df_synthese_tronque_impact = df_synthese[df_synthese['Changement climatique (kg CO2 eq/kg de produit)']>1].copy()\n",
    "\n",
    "#On choisit de ne garder que trois indicateurs d'impact environnemental (parmi les plus robustes) pour faire les premiers calculs : changement climatique, acidification, appauvrissement de la couche d'ozone. De plus, le score unique (indicateur composite qui calcule un impact pondéré fonction de tous les indicateurs selon leurs robustesses respectives) garantit qu'il n'y a pas de perte d'information.\n",
    "df_synthese_reduit_indicateurs = df_synthese_tronque_impact [[\"Groupe d'aliment\",\"Sous-groupe d'aliment\",'Nom du Produit en Français','Livraison',\"Matériau d'emballage\",'Préparation','Score unique EF (mPt/kg de produit)','Changement climatique (kg CO2 eq/kg de produit)',\"Appauvrissement de la couche d'ozone (E-06 kg CVC11 eq/kg de produit)\",\"Acidification terrestre et eaux douces (mol H+ eq/kg de produit)\",'DQR - Note de qualité de la donnée (1 excellente ; 5 très faible)']]\n",
    "\n",
    "#On s'aperçoit qu'il y a des doublons dans les noms des produits, on aimerait ne garder qu'une seule ligne par produit de même appelation. On peut y remédier en s'assurant que chaque produit du tableau a par exemple une valeur différente d'impact sur le changement climatique (on aurait pu le faire aussi avec n'importe quel autre indicateur).\n",
    "df_synthese_propre_1 = df_synthese_reduit_indicateurs.drop_duplicates(subset = ['Changement climatique (kg CO2 eq/kg de produit)']).sort_values(\"Groupe d'aliment\").reset_index(drop=True)\n",
    "df_synthese_propre_1"
   ]
  },
  {
   "cell_type": "code",
   "execution_count": 25,
   "metadata": {},
   "outputs": [
    {
     "data": {
      "text/html": [
       "<div>\n",
       "<style scoped>\n",
       "    .dataframe tbody tr th:only-of-type {\n",
       "        vertical-align: middle;\n",
       "    }\n",
       "\n",
       "    .dataframe tbody tr th {\n",
       "        vertical-align: top;\n",
       "    }\n",
       "\n",
       "    .dataframe thead th {\n",
       "        text-align: right;\n",
       "    }\n",
       "</style>\n",
       "<table border=\"1\" class=\"dataframe\">\n",
       "  <thead>\n",
       "    <tr style=\"text-align: right;\">\n",
       "      <th></th>\n",
       "      <th>Groupe d'aliment</th>\n",
       "      <th>Sous-groupe d'aliment</th>\n",
       "      <th>Nom du Produit en Français</th>\n",
       "      <th>Livraison</th>\n",
       "      <th>Matériau d'emballage</th>\n",
       "      <th>Préparation</th>\n",
       "      <th>DQR - Note de qualité de la donnée (1 excellente ; 5 très faible)</th>\n",
       "      <th>Score unique EF (mPt/kg de produit)</th>\n",
       "      <th>Changement climatique (kg CO2 eq/kg de produit)</th>\n",
       "      <th>Appauvrissement de la couche d'ozone (E-06 kg CVC11 eq/kg de produit)</th>\n",
       "      <th>...</th>\n",
       "      <th>Eutrophisation terreste (mol N eq/kg de produit)</th>\n",
       "      <th>Eutrophisation eaux douces (E-03 kg P eq/kg de produit)</th>\n",
       "      <th>Eutrophisation marine (E-03 kg N eq/kg de produit)</th>\n",
       "      <th>Utilisation du sol (Pt/kg de produit)</th>\n",
       "      <th>Écotoxicité pour écosystèmes aquatiques d'eau douce (CTUe/kg de produit)</th>\n",
       "      <th>Épuisement des ressources eau (m3 depriv./kg de produit)</th>\n",
       "      <th>Épuisement des ressources énergétiques (MJ/kg de produit)</th>\n",
       "      <th>Épuisement des ressources minéraux (E-06 kg Sb eq/kg de produit)</th>\n",
       "      <th>Saisonnalité</th>\n",
       "      <th>Transport par avion (1 : par avion)</th>\n",
       "    </tr>\n",
       "  </thead>\n",
       "  <tbody>\n",
       "    <tr>\n",
       "      <th>1355</th>\n",
       "      <td>fruits, légumes, légumineuses et oléagineux</td>\n",
       "      <td>fruits</td>\n",
       "      <td>Mangue importée par avion, pulpe, crue</td>\n",
       "      <td>Ambiant (moyenne)</td>\n",
       "      <td>Pas d'emballage</td>\n",
       "      <td>Pas de préparation</td>\n",
       "      <td>2.79</td>\n",
       "      <td>1.244447</td>\n",
       "      <td>14.898319</td>\n",
       "      <td>3.418751</td>\n",
       "      <td>...</td>\n",
       "      <td>0.274655</td>\n",
       "      <td>0.487313</td>\n",
       "      <td>24.256069</td>\n",
       "      <td>32.048403</td>\n",
       "      <td>206.260910</td>\n",
       "      <td>17.622634</td>\n",
       "      <td>218.49787</td>\n",
       "      <td>3.906755</td>\n",
       "      <td>mix de consommation FR</td>\n",
       "      <td>1.0</td>\n",
       "    </tr>\n",
       "    <tr>\n",
       "      <th>1141</th>\n",
       "      <td>fruits, légumes, légumineuses et oléagineux</td>\n",
       "      <td>légumes</td>\n",
       "      <td>Haricot vert importé par avion, cru</td>\n",
       "      <td>Ambiant (moyenne)</td>\n",
       "      <td>Pas d'emballage</td>\n",
       "      <td>Réfrigéré chez le consommateur</td>\n",
       "      <td>2.52</td>\n",
       "      <td>0.835217</td>\n",
       "      <td>10.316175</td>\n",
       "      <td>2.376467</td>\n",
       "      <td>...</td>\n",
       "      <td>0.205713</td>\n",
       "      <td>0.387346</td>\n",
       "      <td>19.106720</td>\n",
       "      <td>119.063840</td>\n",
       "      <td>83.567205</td>\n",
       "      <td>8.106421</td>\n",
       "      <td>154.41530</td>\n",
       "      <td>2.575316</td>\n",
       "      <td>mix de consommation FR</td>\n",
       "      <td>1.0</td>\n",
       "    </tr>\n",
       "  </tbody>\n",
       "</table>\n",
       "<p>2 rows × 24 columns</p>\n",
       "</div>"
      ],
      "text/plain": [
       "                                 Groupe d'aliment Sous-groupe d'aliment  \\\n",
       "1355  fruits, légumes, légumineuses et oléagineux                fruits   \n",
       "1141  fruits, légumes, légumineuses et oléagineux               légumes   \n",
       "\n",
       "                  Nom du Produit en Français          Livraison  \\\n",
       "1355  Mangue importée par avion, pulpe, crue  Ambiant (moyenne)   \n",
       "1141     Haricot vert importé par avion, cru  Ambiant (moyenne)   \n",
       "\n",
       "     Matériau d'emballage                     Préparation  \\\n",
       "1355      Pas d'emballage              Pas de préparation   \n",
       "1141      Pas d'emballage  Réfrigéré chez le consommateur   \n",
       "\n",
       "      DQR - Note de qualité de la donnée (1 excellente ; 5 très faible)  \\\n",
       "1355                                               2.79                   \n",
       "1141                                               2.52                   \n",
       "\n",
       "      Score unique EF (mPt/kg de produit)  \\\n",
       "1355                             1.244447   \n",
       "1141                             0.835217   \n",
       "\n",
       "      Changement climatique (kg CO2 eq/kg de produit)  \\\n",
       "1355                                        14.898319   \n",
       "1141                                        10.316175   \n",
       "\n",
       "      Appauvrissement de la couche d'ozone (E-06 kg CVC11 eq/kg de produit)  \\\n",
       "1355                                           3.418751                       \n",
       "1141                                           2.376467                       \n",
       "\n",
       "      ...  Eutrophisation terreste (mol N eq/kg de produit)  \\\n",
       "1355  ...                                          0.274655   \n",
       "1141  ...                                          0.205713   \n",
       "\n",
       "      Eutrophisation eaux douces (E-03 kg P eq/kg de produit)  \\\n",
       "1355                                           0.487313         \n",
       "1141                                           0.387346         \n",
       "\n",
       "      Eutrophisation marine (E-03 kg N eq/kg de produit)  \\\n",
       "1355                                          24.256069    \n",
       "1141                                          19.106720    \n",
       "\n",
       "      Utilisation du sol (Pt/kg de produit)  \\\n",
       "1355                              32.048403   \n",
       "1141                             119.063840   \n",
       "\n",
       "      Écotoxicité pour écosystèmes aquatiques d'eau douce (CTUe/kg de produit)  \\\n",
       "1355                                         206.260910                          \n",
       "1141                                          83.567205                          \n",
       "\n",
       "      Épuisement des ressources eau (m3 depriv./kg de produit)  \\\n",
       "1355                                          17.622634          \n",
       "1141                                           8.106421          \n",
       "\n",
       "      Épuisement des ressources énergétiques (MJ/kg de produit)  \\\n",
       "1355                                          218.49787           \n",
       "1141                                          154.41530           \n",
       "\n",
       "      Épuisement des ressources minéraux (E-06 kg Sb eq/kg de produit)  \\\n",
       "1355                                           3.906755                  \n",
       "1141                                           2.575316                  \n",
       "\n",
       "                Saisonnalité  Transport par avion (1 : par avion)  \n",
       "1355  mix de consommation FR                                  1.0  \n",
       "1141  mix de consommation FR                                  1.0  \n",
       "\n",
       "[2 rows x 24 columns]"
      ]
     },
     "execution_count": 25,
     "metadata": {},
     "output_type": "execute_result"
    }
   ],
   "source": [
    "#Procédons désormais au nettoyage plus allégé: \n",
    "df_synthese.drop([\"Code AGB\"], axis = \"columns\", inplace = True)\n",
    "\n",
    "#on supprime les aliments ayant un DQR trop élevé (les données recueillies sont peu fiables, cf infra)\n",
    "df_synthese = df_synthese[df_synthese[\"DQR - Note de qualité de la donnée (1 excellente ; 5 très faible)\"].between(1,3)]\n",
    "df_synthese_propre_2= df_synthese.sort_values(\"Score unique EF (mPt/kg de produit)\", ascending=False)\n",
    "#On a ainsi un deuxième tableau, beaucoup plus riche en informations mais qui a pour inconvénient d'être moins lisible. Les aliments sont classés en fonction de leur \"score unique\", i.e. de leur impact environnemental pondéré par indicateur.\n",
    "\n",
    "df_synthese_propre_2"
   ]
  },
  {
   "cell_type": "markdown",
   "metadata": {},
   "source": [
    "### b) Tableau sur les ingrédients \n",
    "\n",
    "Pour ce tableau, on n'a pas d'information sur la qualité des données. Cette fois, on garde un maximum de données (même si l'impact de l'ingrédient est faible) afin d'obtenir la décomposition la plus fine possible de l'impact environnemental du produit, en fonction des différents ingrédients et au sens des différents indicateurs (on ne garde que les plus robustes comme précédemment, sachant que le score unique contient toute l'information)."
   ]
  },
  {
   "cell_type": "code",
   "execution_count": 8,
   "metadata": {},
   "outputs": [
    {
     "data": {
      "text/html": [
       "<div>\n",
       "<style scoped>\n",
       "    .dataframe tbody tr th:only-of-type {\n",
       "        vertical-align: middle;\n",
       "    }\n",
       "\n",
       "    .dataframe tbody tr th {\n",
       "        vertical-align: top;\n",
       "    }\n",
       "\n",
       "    .dataframe thead th {\n",
       "        text-align: right;\n",
       "    }\n",
       "</style>\n",
       "<table border=\"1\" class=\"dataframe\">\n",
       "  <thead>\n",
       "    <tr style=\"text-align: right;\">\n",
       "      <th></th>\n",
       "      <th>Ingredients</th>\n",
       "      <th>Nom Français</th>\n",
       "      <th>Groupe d'aliment</th>\n",
       "      <th>Sous-groupe d'aliment</th>\n",
       "      <th>Score unique EF (mPt/kg de produit)</th>\n",
       "      <th>Changement climatique (kg CO2 eq/kg de produit)</th>\n",
       "      <th>Appauvrissement de la couche d'ozone (E-06 kg CVC11 eq/kg de produit)</th>\n",
       "      <th>Acidification terrestre et eaux douces (mol H+ eq/kg de produit)</th>\n",
       "    </tr>\n",
       "  </thead>\n",
       "  <tbody>\n",
       "    <tr>\n",
       "      <th>0</th>\n",
       "      <td>Jaune d'œuf</td>\n",
       "      <td>Sauce aïoli, préemballée</td>\n",
       "      <td>aides culinaires et ingrédients divers</td>\n",
       "      <td>sauces</td>\n",
       "      <td>0.039743</td>\n",
       "      <td>0.164754</td>\n",
       "      <td>0.014089</td>\n",
       "      <td>0.006761</td>\n",
       "    </tr>\n",
       "    <tr>\n",
       "      <th>1</th>\n",
       "      <td>Ail</td>\n",
       "      <td>Sauce aïoli, préemballée</td>\n",
       "      <td>aides culinaires et ingrédients divers</td>\n",
       "      <td>sauces</td>\n",
       "      <td>0.004417</td>\n",
       "      <td>0.011444</td>\n",
       "      <td>0.002512</td>\n",
       "      <td>0.000105</td>\n",
       "    </tr>\n",
       "    <tr>\n",
       "      <th>2</th>\n",
       "      <td>Jus de citron</td>\n",
       "      <td>Sauce aïoli, préemballée</td>\n",
       "      <td>aides culinaires et ingrédients divers</td>\n",
       "      <td>sauces</td>\n",
       "      <td>0.019375</td>\n",
       "      <td>0.061230</td>\n",
       "      <td>0.007842</td>\n",
       "      <td>0.000951</td>\n",
       "    </tr>\n",
       "    <tr>\n",
       "      <th>3</th>\n",
       "      <td>Huile d'olive</td>\n",
       "      <td>Sauce aïoli, préemballée</td>\n",
       "      <td>aides culinaires et ingrédients divers</td>\n",
       "      <td>sauces</td>\n",
       "      <td>0.445364</td>\n",
       "      <td>1.161825</td>\n",
       "      <td>0.136467</td>\n",
       "      <td>0.021524</td>\n",
       "    </tr>\n",
       "    <tr>\n",
       "      <th>4</th>\n",
       "      <td>Autres étapes</td>\n",
       "      <td>Sauce aïoli, préemballée</td>\n",
       "      <td>aides culinaires et ingrédients divers</td>\n",
       "      <td>sauces</td>\n",
       "      <td>0.080761</td>\n",
       "      <td>0.571172</td>\n",
       "      <td>0.126768</td>\n",
       "      <td>0.002630</td>\n",
       "    </tr>\n",
       "  </tbody>\n",
       "</table>\n",
       "</div>"
      ],
      "text/plain": [
       "     Ingredients              Nom Français  \\\n",
       "0    Jaune d'œuf  Sauce aïoli, préemballée   \n",
       "1            Ail  Sauce aïoli, préemballée   \n",
       "2  Jus de citron  Sauce aïoli, préemballée   \n",
       "3  Huile d'olive  Sauce aïoli, préemballée   \n",
       "4  Autres étapes  Sauce aïoli, préemballée   \n",
       "\n",
       "                         Groupe d'aliment Sous-groupe d'aliment  \\\n",
       "0  aides culinaires et ingrédients divers                sauces   \n",
       "1  aides culinaires et ingrédients divers                sauces   \n",
       "2  aides culinaires et ingrédients divers                sauces   \n",
       "3  aides culinaires et ingrédients divers                sauces   \n",
       "4  aides culinaires et ingrédients divers                sauces   \n",
       "\n",
       "   Score unique EF (mPt/kg de produit)  \\\n",
       "0                             0.039743   \n",
       "1                             0.004417   \n",
       "2                             0.019375   \n",
       "3                             0.445364   \n",
       "4                             0.080761   \n",
       "\n",
       "   Changement climatique (kg CO2 eq/kg de produit)  \\\n",
       "0                                         0.164754   \n",
       "1                                         0.011444   \n",
       "2                                         0.061230   \n",
       "3                                         1.161825   \n",
       "4                                         0.571172   \n",
       "\n",
       "   Appauvrissement de la couche d'ozone (E-06 kg CVC11 eq/kg de produit)  \\\n",
       "0                                           0.014089                       \n",
       "1                                           0.002512                       \n",
       "2                                           0.007842                       \n",
       "3                                           0.136467                       \n",
       "4                                           0.126768                       \n",
       "\n",
       "   Acidification terrestre et eaux douces (mol H+ eq/kg de produit)  \n",
       "0                                           0.006761                 \n",
       "1                                           0.000105                 \n",
       "2                                           0.000951                 \n",
       "3                                           0.021524                 \n",
       "4                                           0.002630                 "
      ]
     },
     "execution_count": 8,
     "metadata": {},
     "output_type": "execute_result"
    }
   ],
   "source": [
    "df_ingredients = df_ingredients.dropna()\n",
    "df_ingredients.drop(['Ciqual AGB', 'LCI Name'], axis='columns', inplace=True)\n",
    "df_ingredients = df_ingredients [['Ingredients','Nom Français',\"Groupe d'aliment\",\"Sous-groupe d'aliment\",'Score unique EF (mPt/kg de produit)','Changement climatique (kg CO2 eq/kg de produit)',\"Appauvrissement de la couche d'ozone (E-06 kg CVC11 eq/kg de produit)\",\"Acidification terrestre et eaux douces (mol H+ eq/kg de produit)\"]]\n",
    "df_ingredients.head(5)"
   ]
  },
  {
   "cell_type": "markdown",
   "metadata": {},
   "source": [
    "### c) Tableau sur les étapes du cycle de vie du produit\n",
    "\n",
    "*Le nettoyage est résolument similaire à celui du dataframe df_synthese. On commence d'abord par enlever les données manquantes et les colonnes redondantes du dataframe. En particulier, les dernières colonnes détaillent la construction du DQR global, ce qui n'est pas primordial pour le traitement que nous souhaitons faire des données.*"
   ]
  },
  {
   "cell_type": "code",
   "execution_count": 9,
   "metadata": {},
   "outputs": [
    {
     "data": {
      "text/html": [
       "<div>\n",
       "<style scoped>\n",
       "    .dataframe tbody tr th:only-of-type {\n",
       "        vertical-align: middle;\n",
       "    }\n",
       "\n",
       "    .dataframe tbody tr th {\n",
       "        vertical-align: top;\n",
       "    }\n",
       "\n",
       "    .dataframe thead th {\n",
       "        text-align: right;\n",
       "    }\n",
       "</style>\n",
       "<table border=\"1\" class=\"dataframe\">\n",
       "  <thead>\n",
       "    <tr style=\"text-align: right;\">\n",
       "      <th></th>\n",
       "      <th>Sous-groupe d'aliment</th>\n",
       "      <th>Nom du Produit en Français</th>\n",
       "      <th>Score unique EF (mPt / kg de produit)-Moyenne</th>\n",
       "      <th>Score unique EF (mPt / kg de produit) - Agriculture</th>\n",
       "      <th>Score unique EF (mPt / kg de produit) - Transformation</th>\n",
       "      <th>Score unique EF (mPt / kg de produit) - Emballage</th>\n",
       "      <th>Score unique EF (mPt / kg de produit) - Transport</th>\n",
       "      <th>Score unique EF (mPt / kg de produit) - Supermarché et distribution</th>\n",
       "      <th>Score unique EF (mPt / kg de produit) - Consommation</th>\n",
       "      <th>DQR</th>\n",
       "    </tr>\n",
       "  </thead>\n",
       "  <tbody>\n",
       "    <tr>\n",
       "      <th>0</th>\n",
       "      <td>aides culinaires</td>\n",
       "      <td>Préparation culinaire à base de soja, type \"cr...</td>\n",
       "      <td>0.031080</td>\n",
       "      <td>0.094796</td>\n",
       "      <td>0.049300</td>\n",
       "      <td>0.016462</td>\n",
       "      <td>0.016024</td>\n",
       "      <td>0.009899</td>\n",
       "      <td>0.000000</td>\n",
       "      <td>2.09</td>\n",
       "    </tr>\n",
       "    <tr>\n",
       "      <th>1</th>\n",
       "      <td>algues</td>\n",
       "      <td>Kombu ou kombu japonais (Laminaria japonica), ...</td>\n",
       "      <td>0.210055</td>\n",
       "      <td>0.667595</td>\n",
       "      <td>0.532574</td>\n",
       "      <td>0.022225</td>\n",
       "      <td>0.019454</td>\n",
       "      <td>0.017959</td>\n",
       "      <td>0.000522</td>\n",
       "      <td>2.99</td>\n",
       "    </tr>\n",
       "    <tr>\n",
       "      <th>2</th>\n",
       "      <td>algues</td>\n",
       "      <td>Agar (algue), cru</td>\n",
       "      <td>0.208762</td>\n",
       "      <td>0.667595</td>\n",
       "      <td>0.532574</td>\n",
       "      <td>0.022225</td>\n",
       "      <td>0.019454</td>\n",
       "      <td>0.010205</td>\n",
       "      <td>0.000522</td>\n",
       "      <td>2.99</td>\n",
       "    </tr>\n",
       "    <tr>\n",
       "      <th>3</th>\n",
       "      <td>autres matières grasses</td>\n",
       "      <td>Lard gras, cru</td>\n",
       "      <td>0.033827</td>\n",
       "      <td>0.145793</td>\n",
       "      <td>0.015529</td>\n",
       "      <td>0.015547</td>\n",
       "      <td>0.014042</td>\n",
       "      <td>0.009620</td>\n",
       "      <td>0.002429</td>\n",
       "      <td>2.11</td>\n",
       "    </tr>\n",
       "    <tr>\n",
       "      <th>4</th>\n",
       "      <td>autres matières grasses</td>\n",
       "      <td>Graisse de canard</td>\n",
       "      <td>0.033433</td>\n",
       "      <td>0.142160</td>\n",
       "      <td>0.016160</td>\n",
       "      <td>0.015547</td>\n",
       "      <td>0.014683</td>\n",
       "      <td>0.009620</td>\n",
       "      <td>0.002429</td>\n",
       "      <td>2.96</td>\n",
       "    </tr>\n",
       "  </tbody>\n",
       "</table>\n",
       "</div>"
      ],
      "text/plain": [
       "     Sous-groupe d'aliment                         Nom du Produit en Français  \\\n",
       "0         aides culinaires  Préparation culinaire à base de soja, type \"cr...   \n",
       "1                   algues  Kombu ou kombu japonais (Laminaria japonica), ...   \n",
       "2                   algues                                  Agar (algue), cru   \n",
       "3  autres matières grasses                                     Lard gras, cru   \n",
       "4  autres matières grasses                                  Graisse de canard   \n",
       "\n",
       "   Score unique EF (mPt / kg de produit)-Moyenne  \\\n",
       "0                                       0.031080   \n",
       "1                                       0.210055   \n",
       "2                                       0.208762   \n",
       "3                                       0.033827   \n",
       "4                                       0.033433   \n",
       "\n",
       "   Score unique EF (mPt / kg de produit) - Agriculture  \\\n",
       "0                                           0.094796     \n",
       "1                                           0.667595     \n",
       "2                                           0.667595     \n",
       "3                                           0.145793     \n",
       "4                                           0.142160     \n",
       "\n",
       "   Score unique EF (mPt / kg de produit) - Transformation  \\\n",
       "0                                           0.049300        \n",
       "1                                           0.532574        \n",
       "2                                           0.532574        \n",
       "3                                           0.015529        \n",
       "4                                           0.016160        \n",
       "\n",
       "   Score unique EF (mPt / kg de produit) - Emballage  \\\n",
       "0                                           0.016462   \n",
       "1                                           0.022225   \n",
       "2                                           0.022225   \n",
       "3                                           0.015547   \n",
       "4                                           0.015547   \n",
       "\n",
       "   Score unique EF (mPt / kg de produit) - Transport  \\\n",
       "0                                           0.016024   \n",
       "1                                           0.019454   \n",
       "2                                           0.019454   \n",
       "3                                           0.014042   \n",
       "4                                           0.014683   \n",
       "\n",
       "   Score unique EF (mPt / kg de produit) - Supermarché et distribution  \\\n",
       "0                                           0.009899                     \n",
       "1                                           0.017959                     \n",
       "2                                           0.010205                     \n",
       "3                                           0.009620                     \n",
       "4                                           0.009620                     \n",
       "\n",
       "   Score unique EF (mPt / kg de produit) - Consommation   DQR  \n",
       "0                                           0.000000     2.09  \n",
       "1                                           0.000522     2.99  \n",
       "2                                           0.000522     2.99  \n",
       "3                                           0.002429     2.11  \n",
       "4                                           0.002429     2.96  "
      ]
     },
     "execution_count": 9,
     "metadata": {},
     "output_type": "execute_result"
    }
   ],
   "source": [
    "df_etapes = df_etapes.dropna()\n",
    "df_etapes.drop([\"Code CIQUAL\", \"LCI Name\", \"Groupe d'aliment\", \"Nom et code\",\"DQR - P\", \"DQR - TiR\", \"DQR - GR\", \"DQR - TeR\"], axis='columns', inplace=True)\n",
    "\n",
    "#On remarque que les indicateurs précédemment triés se séparent entre six catégories correspondant aux six étapes du cycle de vie des aliments étudiés. Afin de pouvoir exploiter le dataframe, nous le simplifions en ne gardant que les scores uniques correspondant à chaque étape, et en créant un score unique moyen (regroupant toutes les étapes, mais sans pondération des étapes pour simplifier).Nous ne conservons ainsi que le dataframe contenant les éléments essentiels de présentation des aliments ainsi que ces indicateurs synthétiques.\n",
    "df_etapes[\"Score unique EF (mPt / kg de produit)-Moyenne\"] = (df_etapes[\"Score unique EF (mPt / kg de produit) - Agriculture\"] + df_etapes[\"Score unique EF (mPt / kg de produit) - Transformation\"] + df_etapes[\"Score unique EF (mPt / kg de produit) - Emballage\"] + df_etapes[\"Score unique EF (mPt / kg de produit) - Transport\"] + df_etapes[\"Score unique EF (mPt / kg de produit) - Supermarché et distribution\"] + df_etapes[\"Score unique EF (mPt / kg de produit) - Consommation\"])/6\n",
    "df_etapes = df_etapes[[\"Sous-groupe d'aliment\",'Nom du Produit en Français',\"Score unique EF (mPt / kg de produit)-Moyenne\", \"Score unique EF (mPt / kg de produit) - Agriculture\", \"Score unique EF (mPt / kg de produit) - Transformation\", \"Score unique EF (mPt / kg de produit) - Emballage\", \"Score unique EF (mPt / kg de produit) - Transport\",\"Score unique EF (mPt / kg de produit) - Supermarché et distribution\", \"Score unique EF (mPt / kg de produit) - Consommation\",\"DQR\"]]\n",
    "\n",
    "#A nouveau, on ne garde que les données qui ont un DQR (data quality ratio) plus faible que 3 (voir supra pour la justification du seuil).\n",
    "df_etapes = df_etapes[df_etapes[\"DQR\"]<=3].copy()\n",
    "\n",
    "#De même, nous supprimons les doublons dans les noms des produits afin de conserver qu'une seule ligne par produit de même appellation (on s'assure que chaque produit du tableau a une valeur différente de score unique).\n",
    "df_etapes = df_etapes.drop_duplicates(subset = ['Score unique EF (mPt / kg de produit)-Moyenne'])\n",
    "\n",
    "#Finalement, nous classons comme précédemment les données en fonction du sous-groupe d'aliment. \n",
    "df_etapes_propre = df_etapes.sort_values(\"Sous-groupe d'aliment\", ascending = True).copy()\n",
    "df_etapes_propre = df_etapes_propre.reset_index(drop=True)\n",
    "df_etapes_propre.head(5)"
   ]
  },
  {
   "cell_type": "markdown",
   "metadata": {},
   "source": [
    "### d) Données sur les produits bruts \n",
    "\n",
    "*On s'aperçoit qu'il y a un décalage dans les premières lignes, on va donc supprimer la ligne en trop (avec les noms des unités, que l'on reporte dans la première ligne). Enlevons toutes les colonnes inutiles avant de renommer les autres et de clarifier le décalage de lignes.*"
   ]
  },
  {
   "cell_type": "code",
   "execution_count": 10,
   "metadata": {},
   "outputs": [
    {
     "data": {
      "text/html": [
       "<div>\n",
       "<style scoped>\n",
       "    .dataframe tbody tr th:only-of-type {\n",
       "        vertical-align: middle;\n",
       "    }\n",
       "\n",
       "    .dataframe tbody tr th {\n",
       "        vertical-align: top;\n",
       "    }\n",
       "\n",
       "    .dataframe thead th {\n",
       "        text-align: right;\n",
       "    }\n",
       "</style>\n",
       "<table border=\"1\" class=\"dataframe\">\n",
       "  <thead>\n",
       "    <tr style=\"text-align: right;\">\n",
       "      <th></th>\n",
       "      <th>Nom du produit</th>\n",
       "      <th>Catégorie</th>\n",
       "      <th>Changement climatique (en eq. kg CO2)</th>\n",
       "      <th>Appauvrissement de la couche d ozone (en eq. kg CFC11)</th>\n",
       "      <th>Rayonnements ionisants, effet sur la santé (en eq. kBq U-235)</th>\n",
       "      <th>Formation d ozone photochimique (en eq. kg NMVOC)</th>\n",
       "      <th>Substances inorganiques respiratoires (incidence de maladie)</th>\n",
       "      <th>Acidification (eq. mol H+)</th>\n",
       "      <th>Eutrophisation eau douce (en eq. kg P)</th>\n",
       "      <th>Eutrophisation marine (en eq. kg N)</th>\n",
       "      <th>Eutrophisation terrestre (en eq. mol N)</th>\n",
       "    </tr>\n",
       "  </thead>\n",
       "  <tbody>\n",
       "    <tr>\n",
       "      <th>1</th>\n",
       "      <td>Poulet, Bleu Blanc Coeur, at farm gate/FR U</td>\n",
       "      <td>Agricultural\\Animal production\\Avian\\Transform...</td>\n",
       "      <td>1.44744</td>\n",
       "      <td>1.11454e-07</td>\n",
       "      <td>0.170576</td>\n",
       "      <td>0.00462458</td>\n",
       "      <td>3.2014e-07</td>\n",
       "      <td>0.0472122</td>\n",
       "      <td>0.000409922</td>\n",
       "      <td>0.0121022</td>\n",
       "      <td>0.206126</td>\n",
       "    </tr>\n",
       "    <tr>\n",
       "      <th>2</th>\n",
       "      <td>Poulet, conventionnel, départ ferme / FR U</td>\n",
       "      <td>Agricultural\\Animal production\\Avian\\Transform...</td>\n",
       "      <td>1.87453</td>\n",
       "      <td>1.45069e-07</td>\n",
       "      <td>0.219829</td>\n",
       "      <td>0.00632978</td>\n",
       "      <td>3.38427e-07</td>\n",
       "      <td>0.0493909</td>\n",
       "      <td>0.000515423</td>\n",
       "      <td>0.011752</td>\n",
       "      <td>0.212471</td>\n",
       "    </tr>\n",
       "    <tr>\n",
       "      <th>3</th>\n",
       "      <td>Poulet, Label Rouge, à la  de la ferme / FR U</td>\n",
       "      <td>Agricultural\\Animal production\\Avian\\Transform...</td>\n",
       "      <td>2.82659</td>\n",
       "      <td>2.12771e-07</td>\n",
       "      <td>0.282615</td>\n",
       "      <td>0.0088557</td>\n",
       "      <td>5.4779e-07</td>\n",
       "      <td>0.0800916</td>\n",
       "      <td>0.000695502</td>\n",
       "      <td>0.0192948</td>\n",
       "      <td>0.346505</td>\n",
       "    </tr>\n",
       "    <tr>\n",
       "      <th>4</th>\n",
       "      <td>Poulet, moyenne nationale, à la  de la ferme /...</td>\n",
       "      <td>Agricultural\\Animal production\\Avian\\Transform...</td>\n",
       "      <td>1.99191</td>\n",
       "      <td>1.53468e-07</td>\n",
       "      <td>0.227954</td>\n",
       "      <td>0.00664452</td>\n",
       "      <td>3.64812e-07</td>\n",
       "      <td>0.0532605</td>\n",
       "      <td>0.000538273</td>\n",
       "      <td>0.0127541</td>\n",
       "      <td>0.229395</td>\n",
       "    </tr>\n",
       "    <tr>\n",
       "      <th>5</th>\n",
       "      <td>Canard à rôtir,  conventionnel, à la ferme / FR U</td>\n",
       "      <td>Agricultural\\Animal production\\Avian\\Transform...</td>\n",
       "      <td>2.73995</td>\n",
       "      <td>1.77542e-07</td>\n",
       "      <td>0.259452</td>\n",
       "      <td>0.00804329</td>\n",
       "      <td>6.45601e-07</td>\n",
       "      <td>0.0940418</td>\n",
       "      <td>0.000629109</td>\n",
       "      <td>0.017566</td>\n",
       "      <td>0.411137</td>\n",
       "    </tr>\n",
       "  </tbody>\n",
       "</table>\n",
       "</div>"
      ],
      "text/plain": [
       "                                      Nom du produit  \\\n",
       "1        Poulet, Bleu Blanc Coeur, at farm gate/FR U   \n",
       "2         Poulet, conventionnel, départ ferme / FR U   \n",
       "3      Poulet, Label Rouge, à la  de la ferme / FR U   \n",
       "4  Poulet, moyenne nationale, à la  de la ferme /...   \n",
       "5  Canard à rôtir,  conventionnel, à la ferme / FR U   \n",
       "\n",
       "                                           Catégorie  \\\n",
       "1  Agricultural\\Animal production\\Avian\\Transform...   \n",
       "2  Agricultural\\Animal production\\Avian\\Transform...   \n",
       "3  Agricultural\\Animal production\\Avian\\Transform...   \n",
       "4  Agricultural\\Animal production\\Avian\\Transform...   \n",
       "5  Agricultural\\Animal production\\Avian\\Transform...   \n",
       "\n",
       "  Changement climatique (en eq. kg CO2)  \\\n",
       "1                               1.44744   \n",
       "2                               1.87453   \n",
       "3                               2.82659   \n",
       "4                               1.99191   \n",
       "5                               2.73995   \n",
       "\n",
       "  Appauvrissement de la couche d ozone (en eq. kg CFC11)  \\\n",
       "1                                        1.11454e-07       \n",
       "2                                        1.45069e-07       \n",
       "3                                        2.12771e-07       \n",
       "4                                        1.53468e-07       \n",
       "5                                        1.77542e-07       \n",
       "\n",
       "  Rayonnements ionisants, effet sur la santé (en eq. kBq U-235)  \\\n",
       "1                                           0.170576              \n",
       "2                                           0.219829              \n",
       "3                                           0.282615              \n",
       "4                                           0.227954              \n",
       "5                                           0.259452              \n",
       "\n",
       "  Formation d ozone photochimique (en eq. kg NMVOC)  \\\n",
       "1                                        0.00462458   \n",
       "2                                        0.00632978   \n",
       "3                                         0.0088557   \n",
       "4                                        0.00664452   \n",
       "5                                        0.00804329   \n",
       "\n",
       "  Substances inorganiques respiratoires (incidence de maladie)  \\\n",
       "1                                         3.2014e-07             \n",
       "2                                        3.38427e-07             \n",
       "3                                         5.4779e-07             \n",
       "4                                        3.64812e-07             \n",
       "5                                        6.45601e-07             \n",
       "\n",
       "  Acidification (eq. mol H+) Eutrophisation eau douce (en eq. kg P)  \\\n",
       "1                  0.0472122                            0.000409922   \n",
       "2                  0.0493909                            0.000515423   \n",
       "3                  0.0800916                            0.000695502   \n",
       "4                  0.0532605                            0.000538273   \n",
       "5                  0.0940418                            0.000629109   \n",
       "\n",
       "  Eutrophisation marine (en eq. kg N) Eutrophisation terrestre (en eq. mol N)  \n",
       "1                           0.0121022                                0.206126  \n",
       "2                            0.011752                                0.212471  \n",
       "3                           0.0192948                                0.346505  \n",
       "4                           0.0127541                                0.229395  \n",
       "5                            0.017566                                0.411137  "
      ]
     },
     "execution_count": 10,
     "metadata": {},
     "output_type": "execute_result"
    }
   ],
   "source": [
    "df_agri_normal= pd.read_excel(df_agriculture,\"AGB_agri\", header=1)\n",
    "\n",
    "df_agri_normal.drop(['Unnamed: 1', 'Climate change - fossil', 'Climate change - biogenic','Climate change - land use and transform.'], axis='columns', inplace=True)\n",
    "df_agri_nonbio = df_agri_normal.rename(columns={'Unnamed: 0':'Nom du produit', 'Unnamed: 2':'Catégorie', 'Climate change': 'Changement climatique (en eq. kg CO2)', 'Ozone depletion': 'Appauvrissement de la couche d ozone (en eq. kg CFC11)','Ionising radiation, HH':'Rayonnements ionisants, effet sur la santé (en eq. kBq U-235)', 'Photochemical ozone formation, HH':'Formation d ozone photochimique (en eq. kg NMVOC)', 'Respiratory inorganics':'Substances inorganiques respiratoires (incidence de maladie)', 'Acidification terrestrial and freshwater':'Acidification (eq. mol H+)', 'Eutrophication freshwater': 'Eutrophisation eau douce (en eq. kg P)', 'Eutrophication marine':'Eutrophisation marine (en eq. kg N)', 'Eutrophication terrestrial':'Eutrophisation terrestre (en eq. mol N)', 'Ecotoxicity freshwater':'Ecotoxicité d eau douce (en CTUe)', 'Land use': 'Usage des terres (en Pt)', 'Water scarcity':'Epuisement des ressources en eau (en m3 Eau)', 'Resource use, energy carriers': 'Epuisement des ressources énergétiques (en MJ)', 'Resource use, mineral and metals': 'Epuisement des ressources minéraux (en eq. kg Sb)'}).copy()\n",
    "\n",
    "df_agri_nonbio.drop([0],inplace = True)\n",
    "\n",
    "#Cependant, comme nous l'avons vu, certains indicateurs sont très peu robustes. Enlevons les de nos données.\n",
    "df_agri_nonbio.drop([\"Usage des terres (en Pt)\",\"Ecotoxicité d eau douce (en CTUe)\", \"Epuisement des ressources énergétiques (en MJ)\",\"Epuisement des ressources minéraux (en eq. kg Sb)\", \"Epuisement des ressources en eau (en m3 Eau)\"], axis =\"columns\", inplace=True)\n",
    "\n",
    "df_agri_nonbio.head(5)"
   ]
  },
  {
   "cell_type": "markdown",
   "metadata": {},
   "source": [
    "On procède exactement de la même manières pour les produits brut biologiques "
   ]
  },
  {
   "cell_type": "code",
   "execution_count": 11,
   "metadata": {},
   "outputs": [
    {
     "data": {
      "text/html": [
       "<div>\n",
       "<style scoped>\n",
       "    .dataframe tbody tr th:only-of-type {\n",
       "        vertical-align: middle;\n",
       "    }\n",
       "\n",
       "    .dataframe tbody tr th {\n",
       "        vertical-align: top;\n",
       "    }\n",
       "\n",
       "    .dataframe thead th {\n",
       "        text-align: right;\n",
       "    }\n",
       "</style>\n",
       "<table border=\"1\" class=\"dataframe\">\n",
       "  <thead>\n",
       "    <tr style=\"text-align: right;\">\n",
       "      <th></th>\n",
       "      <th>Nom du produit</th>\n",
       "      <th>Catégorie</th>\n",
       "      <th>Changement climatique (en eq. kg CO2)</th>\n",
       "      <th>Appauvrissement de la couche d ozone (en eq. kg CFC11)</th>\n",
       "      <th>Rayonnements ionisants, effet sur la santé (en eq. kBq U-235)</th>\n",
       "      <th>Formation d ozone photochimique (en eq. kg NMVOC)</th>\n",
       "      <th>Substances inorganiques respiratoires (incidence de maladie)</th>\n",
       "      <th>Acidification (eq. mol H+)</th>\n",
       "      <th>Eutrophisation eau douce (en eq. kg P)</th>\n",
       "      <th>Eutrophisation marine (en eq. kg N)</th>\n",
       "      <th>Eutrophisation terrestre (en eq. mol N)</th>\n",
       "    </tr>\n",
       "  </thead>\n",
       "  <tbody>\n",
       "    <tr>\n",
       "      <th>1</th>\n",
       "      <td>Poulet,  biologique, à la ferme / FR U</td>\n",
       "      <td>Agricultural\\Animal production\\Avian\\Transform...</td>\n",
       "      <td>2.50144</td>\n",
       "      <td>2.00028e-07</td>\n",
       "      <td>0.338122</td>\n",
       "      <td>0.00865668</td>\n",
       "      <td>5.90742e-07</td>\n",
       "      <td>0.0865018</td>\n",
       "      <td>0.000763565</td>\n",
       "      <td>0.0311399</td>\n",
       "      <td>0.380357</td>\n",
       "    </tr>\n",
       "    <tr>\n",
       "      <th>2</th>\n",
       "      <td>Poulet, biologique, système n ° 1, à la ferme ...</td>\n",
       "      <td>Agricultural\\Animal production\\Avian\\Transform...</td>\n",
       "      <td>3.36722</td>\n",
       "      <td>2.23134e-07</td>\n",
       "      <td>0.370369</td>\n",
       "      <td>0.00973865</td>\n",
       "      <td>6.40683e-07</td>\n",
       "      <td>0.0967691</td>\n",
       "      <td>0.00110792</td>\n",
       "      <td>0.0358753</td>\n",
       "      <td>0.41902</td>\n",
       "    </tr>\n",
       "    <tr>\n",
       "      <th>3</th>\n",
       "      <td>Poulet, biologique, système n ° 2, à la ferme ...</td>\n",
       "      <td>Agricultural\\Animal production\\Avian\\Transform...</td>\n",
       "      <td>3.35622</td>\n",
       "      <td>2.19161e-07</td>\n",
       "      <td>0.346624</td>\n",
       "      <td>0.00997517</td>\n",
       "      <td>6.26829e-07</td>\n",
       "      <td>0.095043</td>\n",
       "      <td>0.00112005</td>\n",
       "      <td>0.0373553</td>\n",
       "      <td>0.411431</td>\n",
       "    </tr>\n",
       "    <tr>\n",
       "      <th>4</th>\n",
       "      <td>poule Réforme, porte biologique, à la ferme / ...</td>\n",
       "      <td>Agricultural\\Animal production\\Avian\\Transform...</td>\n",
       "      <td>4.92108</td>\n",
       "      <td>4.28126e-07</td>\n",
       "      <td>0.878833</td>\n",
       "      <td>0.0134483</td>\n",
       "      <td>8.59302e-07</td>\n",
       "      <td>0.12478</td>\n",
       "      <td>0.00104827</td>\n",
       "      <td>0.0239226</td>\n",
       "      <td>0.536996</td>\n",
       "    </tr>\n",
       "    <tr>\n",
       "      <th>5</th>\n",
       "      <td>Réforme poule, biologique, système n ° 1, à la...</td>\n",
       "      <td>Agricultural\\Animal production\\Avian\\Transform...</td>\n",
       "      <td>9.14596</td>\n",
       "      <td>7.24577e-07</td>\n",
       "      <td>1.27946</td>\n",
       "      <td>0.0284353</td>\n",
       "      <td>2.1249e-06</td>\n",
       "      <td>0.309146</td>\n",
       "      <td>0.00228231</td>\n",
       "      <td>0.0577689</td>\n",
       "      <td>1.34246</td>\n",
       "    </tr>\n",
       "  </tbody>\n",
       "</table>\n",
       "</div>"
      ],
      "text/plain": [
       "                                      Nom du produit  \\\n",
       "1             Poulet,  biologique, à la ferme / FR U   \n",
       "2  Poulet, biologique, système n ° 1, à la ferme ...   \n",
       "3  Poulet, biologique, système n ° 2, à la ferme ...   \n",
       "4  poule Réforme, porte biologique, à la ferme / ...   \n",
       "5  Réforme poule, biologique, système n ° 1, à la...   \n",
       "\n",
       "                                           Catégorie  \\\n",
       "1  Agricultural\\Animal production\\Avian\\Transform...   \n",
       "2  Agricultural\\Animal production\\Avian\\Transform...   \n",
       "3  Agricultural\\Animal production\\Avian\\Transform...   \n",
       "4  Agricultural\\Animal production\\Avian\\Transform...   \n",
       "5  Agricultural\\Animal production\\Avian\\Transform...   \n",
       "\n",
       "  Changement climatique (en eq. kg CO2)  \\\n",
       "1                               2.50144   \n",
       "2                               3.36722   \n",
       "3                               3.35622   \n",
       "4                               4.92108   \n",
       "5                               9.14596   \n",
       "\n",
       "  Appauvrissement de la couche d ozone (en eq. kg CFC11)  \\\n",
       "1                                        2.00028e-07       \n",
       "2                                        2.23134e-07       \n",
       "3                                        2.19161e-07       \n",
       "4                                        4.28126e-07       \n",
       "5                                        7.24577e-07       \n",
       "\n",
       "  Rayonnements ionisants, effet sur la santé (en eq. kBq U-235)  \\\n",
       "1                                           0.338122              \n",
       "2                                           0.370369              \n",
       "3                                           0.346624              \n",
       "4                                           0.878833              \n",
       "5                                            1.27946              \n",
       "\n",
       "  Formation d ozone photochimique (en eq. kg NMVOC)  \\\n",
       "1                                        0.00865668   \n",
       "2                                        0.00973865   \n",
       "3                                        0.00997517   \n",
       "4                                         0.0134483   \n",
       "5                                         0.0284353   \n",
       "\n",
       "  Substances inorganiques respiratoires (incidence de maladie)  \\\n",
       "1                                        5.90742e-07             \n",
       "2                                        6.40683e-07             \n",
       "3                                        6.26829e-07             \n",
       "4                                        8.59302e-07             \n",
       "5                                         2.1249e-06             \n",
       "\n",
       "  Acidification (eq. mol H+) Eutrophisation eau douce (en eq. kg P)  \\\n",
       "1                  0.0865018                            0.000763565   \n",
       "2                  0.0967691                             0.00110792   \n",
       "3                   0.095043                             0.00112005   \n",
       "4                    0.12478                             0.00104827   \n",
       "5                   0.309146                             0.00228231   \n",
       "\n",
       "  Eutrophisation marine (en eq. kg N) Eutrophisation terrestre (en eq. mol N)  \n",
       "1                           0.0311399                                0.380357  \n",
       "2                           0.0358753                                 0.41902  \n",
       "3                           0.0373553                                0.411431  \n",
       "4                           0.0239226                                0.536996  \n",
       "5                           0.0577689                                 1.34246  "
      ]
     },
     "execution_count": 11,
     "metadata": {},
     "output_type": "execute_result"
    }
   ],
   "source": [
    "df_agri_organic= pd.read_excel(df_agriculture,\"AGB organic product\", header=1)\n",
    "df_agri_organic.drop(['Unnamed: 1', 'Climate change - fossil', 'Climate change - biogenic', 'Climate change - land use and transform.'], axis =\"columns\", inplace= True )\n",
    "df_agri_bio = df_agri_organic.rename(columns={'Unnamed: 0':'Nom du produit', 'Unnamed: 2':'Catégorie', 'Climate change': 'Changement climatique (en eq. kg CO2)', 'Ozone depletion': 'Appauvrissement de la couche d ozone (en eq. kg CFC11)','Ionising radiation, HH':'Rayonnements ionisants, effet sur la santé (en eq. kBq U-235)', 'Photochemical ozone formation, HH':'Formation d ozone photochimique (en eq. kg NMVOC)', 'Respiratory inorganics':'Substances inorganiques respiratoires (incidence de maladie)', 'Acidification terrestrial and freshwater':'Acidification (eq. mol H+)', 'Eutrophication freshwater': 'Eutrophisation eau douce (en eq. kg P)', 'Eutrophication marine':'Eutrophisation marine (en eq. kg N)', 'Eutrophication terrestrial':'Eutrophisation terrestre (en eq. mol N)', 'Ecotoxicity freshwater':'Ecotoxicité d eau douce (en CTUe)', 'Land use': 'Usage des terres (en Pt)', 'Water scarcity':'Epuisement des ressources en eau (en m3 Eau)', 'Resource use, energy carriers': 'Epuisement des ressources énergétiques (en MJ)', 'Resource use, mineral and metals': 'Epuisement des ressources minéraux (en eq. kg Sb)'}).copy()\n",
    "df_agri_bio.drop([0], inplace = True)\n",
    "df_agri_bio.drop([\"Usage des terres (en Pt)\",\"Ecotoxicité d eau douce (en CTUe)\", \"Epuisement des ressources énergétiques (en MJ)\",\"Epuisement des ressources minéraux (en eq. kg Sb)\", \"Epuisement des ressources en eau (en m3 Eau)\"], axis =\"columns\", inplace=True)\n",
    "\n",
    "df_agri_bio.head(5)"
   ]
  },
  {
   "cell_type": "markdown",
   "metadata": {},
   "source": [
    "# II/ TRAITEMENTS SUR LES DONNEES ET DATA VISUALISATION\n",
    "\n",
    "## 1) Tableau de synthèse très synthétique \n",
    "\n",
    "\n",
    "### a) Statistiques toutes familles de produits confondues\n",
    "\n",
    "*On commence par faire quelques statistiques descriptives sur les données, afin d'avoir une idée de l'impact environnemental des produits considérés*"
   ]
  },
  {
   "cell_type": "code",
   "execution_count": 12,
   "metadata": {},
   "outputs": [
    {
     "ename": "NameError",
     "evalue": "name 'df_synthese_propre_1' is not defined",
     "output_type": "error",
     "traceback": [
      "\u001b[1;31m---------------------------------------------------------------------------\u001b[0m",
      "\u001b[1;31mNameError\u001b[0m                                 Traceback (most recent call last)",
      "\u001b[1;32m<ipython-input-12-a2437f5e7614>\u001b[0m in \u001b[0;36m<module>\u001b[1;34m\u001b[0m\n\u001b[1;32m----> 1\u001b[1;33m \u001b[0mdf_synthese_propre_1\u001b[0m\u001b[1;33m.\u001b[0m\u001b[0mmean\u001b[0m\u001b[1;33m(\u001b[0m\u001b[1;33m)\u001b[0m\u001b[1;33m\u001b[0m\u001b[1;33m\u001b[0m\u001b[0m\n\u001b[0m",
      "\u001b[1;31mNameError\u001b[0m: name 'df_synthese_propre_1' is not defined"
     ]
    }
   ],
   "source": [
    "df_synthese_propre_1.mean()"
   ]
  },
  {
   "cell_type": "markdown",
   "metadata": {},
   "source": [
    "On obtient l'impact environnemental moyen sur tous les produits, qui servira de référence pour comparer l'impact de certains produits particuliers. La moyenne la plus significative est le score unique moyen, qui prend en compte tous les indicateurs et les pondère selon leur robustesse, ce score moyen est de 0,79 environ. Notons que le DQR moyen est proche de 2,5 : cela signifie que les données conservées sont en moyenne assez fiables (on vérifiera quand même plus loin que les éventuelles différences de DQR ne biaisent pas nos résultats).\n",
    "\n",
    "Ne nous limitons pas à la moyenne et regardons les principales statistiques descriptives, sur le score unique seulement pour commencer."
   ]
  },
  {
   "cell_type": "code",
   "execution_count": 36,
   "metadata": {},
   "outputs": [
    {
     "data": {
      "text/html": [
       "<div>\n",
       "<style scoped>\n",
       "    .dataframe tbody tr th:only-of-type {\n",
       "        vertical-align: middle;\n",
       "    }\n",
       "\n",
       "    .dataframe tbody tr th {\n",
       "        vertical-align: top;\n",
       "    }\n",
       "\n",
       "    .dataframe thead th {\n",
       "        text-align: right;\n",
       "    }\n",
       "</style>\n",
       "<table border=\"1\" class=\"dataframe\">\n",
       "  <thead>\n",
       "    <tr style=\"text-align: right;\">\n",
       "      <th></th>\n",
       "      <th>Score unique EF (mPt/kg de produit)</th>\n",
       "    </tr>\n",
       "  </thead>\n",
       "  <tbody>\n",
       "    <tr>\n",
       "      <th>count</th>\n",
       "      <td>2.000000</td>\n",
       "    </tr>\n",
       "    <tr>\n",
       "      <th>mean</th>\n",
       "      <td>1.039832</td>\n",
       "    </tr>\n",
       "    <tr>\n",
       "      <th>std</th>\n",
       "      <td>0.289370</td>\n",
       "    </tr>\n",
       "    <tr>\n",
       "      <th>min</th>\n",
       "      <td>0.835217</td>\n",
       "    </tr>\n",
       "    <tr>\n",
       "      <th>25%</th>\n",
       "      <td>0.937524</td>\n",
       "    </tr>\n",
       "    <tr>\n",
       "      <th>50%</th>\n",
       "      <td>1.039832</td>\n",
       "    </tr>\n",
       "    <tr>\n",
       "      <th>75%</th>\n",
       "      <td>1.142140</td>\n",
       "    </tr>\n",
       "    <tr>\n",
       "      <th>max</th>\n",
       "      <td>1.244447</td>\n",
       "    </tr>\n",
       "  </tbody>\n",
       "</table>\n",
       "</div>"
      ],
      "text/plain": [
       "       Score unique EF (mPt/kg de produit)\n",
       "count                             2.000000\n",
       "mean                              1.039832\n",
       "std                               0.289370\n",
       "min                               0.835217\n",
       "25%                               0.937524\n",
       "50%                               1.039832\n",
       "75%                               1.142140\n",
       "max                               1.244447"
      ]
     },
     "execution_count": 36,
     "metadata": {},
     "output_type": "execute_result"
    },
    {
     "data": {
      "text/plain": [
       "<matplotlib.axes._subplots.AxesSubplot at 0x2079b9fa2e0>"
      ]
     },
     "execution_count": 36,
     "metadata": {},
     "output_type": "execute_result"
    },
    {
     "data": {
      "image/png": "[encoded data removed]",
      "text/plain": [
       "<Figure size 432x288 with 1 Axes>"
      ]
     },
     "metadata": {
      "needs_background": "light"
     },
     "output_type": "display_data"
    }
   ],
   "source": [
    "df_synthese_propre_1[[\"Score unique EF (mPt/kg de produit)\"]].describe()\n",
    "df_synthese_propre_1[[\"Score unique EF (mPt/kg de produit)\"]].plot(kind=\"box\")"
   ]
  },
  {
   "cell_type": "markdown",
   "metadata": {},
   "source": [
    "Principaux constats :\n",
    "\n",
    "* Les scores moyens s'étendent de 0,11 à 6,09 : il y a donc des aliments qui polluent largement plus que la moyenne (plus de sept fois plus que la moyenne pour le plus polluant) et d'autres beaucoup moins (idem, rapport relatif autour de 7).\n",
    "* Les quartiles suggèrent que la distribution n'est pas très régulière,ce qu'illustre la boxplot précédente. En particulier, la médiane est nettement sous la moyenne (score médiane : à peine 60% du score moyen ), ce qui suggère que certaines valeurs extrêmes poussent la moyenne vers le haut. En d'autres termes, la moitié des produits ont un score unique inférieur à 0,45 (ce qui semble assez faible, mais ne signifie pas grand chose pour le moment), trois quarts ont un score unique inférieur à 0,85 (c'est-à-dire peu supérieur à la moyenne !) mais quelques aliments relativement très polluants tirent la moyenne vers le haut, il s'agit maintenant de les repérer."
   ]
  },
  {
   "cell_type": "code",
   "execution_count": 37,
   "metadata": {},
   "outputs": [
    {
     "data": {
      "text/html": [
       "<div>\n",
       "<style scoped>\n",
       "    .dataframe tbody tr th:only-of-type {\n",
       "        vertical-align: middle;\n",
       "    }\n",
       "\n",
       "    .dataframe tbody tr th {\n",
       "        vertical-align: top;\n",
       "    }\n",
       "\n",
       "    .dataframe thead th {\n",
       "        text-align: right;\n",
       "    }\n",
       "</style>\n",
       "<table border=\"1\" class=\"dataframe\">\n",
       "  <thead>\n",
       "    <tr style=\"text-align: right;\">\n",
       "      <th></th>\n",
       "      <th>Score unique EF (mPt/kg de produit)</th>\n",
       "    </tr>\n",
       "  </thead>\n",
       "  <tbody>\n",
       "    <tr>\n",
       "      <th>0.80</th>\n",
       "      <td>1.162601</td>\n",
       "    </tr>\n",
       "    <tr>\n",
       "      <th>0.90</th>\n",
       "      <td>1.203524</td>\n",
       "    </tr>\n",
       "    <tr>\n",
       "      <th>0.95</th>\n",
       "      <td>1.223986</td>\n",
       "    </tr>\n",
       "  </tbody>\n",
       "</table>\n",
       "</div>"
      ],
      "text/plain": [
       "      Score unique EF (mPt/kg de produit)\n",
       "0.80                             1.162601\n",
       "0.90                             1.203524\n",
       "0.95                             1.223986"
      ]
     },
     "execution_count": 37,
     "metadata": {},
     "output_type": "execute_result"
    }
   ],
   "source": [
    "df_synthese_propre_1[[\"Score unique EF (mPt/kg de produit)\"]].quantile(q = [0.8,0.9,0.95])"
   ]
  },
  {
   "cell_type": "markdown",
   "metadata": {},
   "source": [
    "On voit que seuls 5% des scores uniques sont au-dessus de 2,78 (i.e. un peu plus de trois fois le score moyen), cela confirme qu'un petit nombre d'aliments a un impact fort. Repérons les."
   ]
  },
  {
   "cell_type": "code",
   "execution_count": null,
   "metadata": {},
   "outputs": [],
   "source": [
    "produits_fort_impact_classes = produits_fort_impact.sort_values('Score unique EF (mPt/kg de produit)',ascending = False)\n",
    "produits_fort_impact_classes.reset_index(drop=True).head(10)"
   ]
  },
  {
   "cell_type": "markdown",
   "metadata": {},
   "source": [
    "Sur les 37 aliments considérés, trois seulement ont un score unique supérieur à six (et largement supérieur aux suivants) et ils contiennent tous de l'agneau. Derrière on retrouve essentiellement des produits à base de viande, mais il y a aussi les deux exceptions, arrivant en 14ème et 16ème place (c'est-à-dire assez haut !).\n",
    "\n",
    "Lorsque l'on y regarde de plus près, on voit que ces deux aliments sans viande impactent surtout l'environnement en contribuant à appauvrir la couche d'ozone (plus que les aliments avec viande qui ont surtout un indicateur \"Changement climatique\" élevé). Comparons d'ailleurs le classement précédent avec le classement en fonction de l'indicateur \"appauvrissement de la couche d'ozone\"."
   ]
  },
  {
   "cell_type": "code",
   "execution_count": null,
   "metadata": {},
   "outputs": [],
   "source": [
    "produits_fort_impact_classes_ozone = produits_fort_impact.sort_values(\"Appauvrissement de la couche d'ozone (E-06 kg CVC11 eq/kg de produit)\",ascending = False)\n",
    "produits_fort_impact_classes_ozone.reset_index(drop=True).head(10)"
   ]
  },
  {
   "cell_type": "markdown",
   "metadata": {},
   "source": [
    "Ce classement confirme l'hypothèse précédente, surtout pour les nouilles : c'est bien leur impact sur la couche d'ozone qui les propulse dans le haut du classement. Travailler avec les données des autres tableaux devrait permettre de comprendre quelle étape du cycle de vie du produit explique cet impact. Pour les pêches, c'est un peu moins net ; il serait donc intéressant de regarder les autres indicateurs.\n",
    "\n",
    "On peut encore classer ces aliments à fort impact selon d'autres critères, comme l'état dans lequel il est livré (livraison), le matériau d'emballage, la préparation...\n",
    "\n",
    "On observe qu'à part la pêche qui est livrée à température ambiante, tout le reste est livré glacé."
   ]
  },
  {
   "cell_type": "code",
   "execution_count": null,
   "metadata": {},
   "outputs": [],
   "source": [
    "produits_fort_impact_classement_livraison = produits_fort_impact.sort_values(\"Livraison\",ascending = False)\n",
    "produits_fort_impact_classement_livraison.reset_index(drop=True).head(10)"
   ]
  },
  {
   "cell_type": "code",
   "execution_count": 10,
   "metadata": {},
   "outputs": [
    {
     "data": {
      "text/html": [
       "<div>\n",
       "<style scoped>\n",
       "    .dataframe tbody tr th:only-of-type {\n",
       "        vertical-align: middle;\n",
       "    }\n",
       "\n",
       "    .dataframe tbody tr th {\n",
       "        vertical-align: top;\n",
       "    }\n",
       "\n",
       "    .dataframe thead th {\n",
       "        text-align: right;\n",
       "    }\n",
       "</style>\n",
       "<table border=\"1\" class=\"dataframe\">\n",
       "  <thead>\n",
       "    <tr style=\"text-align: right;\">\n",
       "      <th></th>\n",
       "      <th>Groupe d'aliment</th>\n",
       "      <th>Sous-groupe d'aliment</th>\n",
       "      <th>Nom du Produit en Français</th>\n",
       "      <th>Livraison</th>\n",
       "      <th>Matériau d'emballage</th>\n",
       "      <th>Préparation</th>\n",
       "      <th>Score unique EF (mPt/kg de produit)</th>\n",
       "      <th>Changement climatique (kg CO2 eq/kg de produit)</th>\n",
       "      <th>Appauvrissement de la couche d'ozone (E-06 kg CVC11 eq/kg de produit)</th>\n",
       "      <th>Acidification terrestre et eaux douces (mol H+ eq/kg de produit)</th>\n",
       "      <th>DQR - Note de qualité de la donnée (1 excellente ; 5 très faible)</th>\n",
       "    </tr>\n",
       "  </thead>\n",
       "  <tbody>\n",
       "    <tr>\n",
       "      <th>0</th>\n",
       "      <td>fruits, légumes, légumineuses et oléagineux</td>\n",
       "      <td>légumes</td>\n",
       "      <td>Haricot vert importé par avion, cru</td>\n",
       "      <td>Ambiant (moyenne)</td>\n",
       "      <td>Pas d'emballage</td>\n",
       "      <td>Réfrigéré chez le consommateur</td>\n",
       "      <td>0.835217</td>\n",
       "      <td>10.316175</td>\n",
       "      <td>2.376467</td>\n",
       "      <td>0.055054</td>\n",
       "      <td>2.52</td>\n",
       "    </tr>\n",
       "    <tr>\n",
       "      <th>1</th>\n",
       "      <td>fruits, légumes, légumineuses et oléagineux</td>\n",
       "      <td>fruits</td>\n",
       "      <td>Mangue importée par avion, pulpe, crue</td>\n",
       "      <td>Ambiant (moyenne)</td>\n",
       "      <td>Pas d'emballage</td>\n",
       "      <td>Pas de préparation</td>\n",
       "      <td>1.244447</td>\n",
       "      <td>14.898319</td>\n",
       "      <td>3.418751</td>\n",
       "      <td>0.074669</td>\n",
       "      <td>2.79</td>\n",
       "    </tr>\n",
       "  </tbody>\n",
       "</table>\n",
       "</div>"
      ],
      "text/plain": [
       "                              Groupe d'aliment Sous-groupe d'aliment  \\\n",
       "0  fruits, légumes, légumineuses et oléagineux               légumes   \n",
       "1  fruits, légumes, légumineuses et oléagineux                fruits   \n",
       "\n",
       "               Nom du Produit en Français          Livraison  \\\n",
       "0     Haricot vert importé par avion, cru  Ambiant (moyenne)   \n",
       "1  Mangue importée par avion, pulpe, crue  Ambiant (moyenne)   \n",
       "\n",
       "  Matériau d'emballage                     Préparation  \\\n",
       "0      Pas d'emballage  Réfrigéré chez le consommateur   \n",
       "1      Pas d'emballage              Pas de préparation   \n",
       "\n",
       "   Score unique EF (mPt/kg de produit)  \\\n",
       "0                             0.835217   \n",
       "1                             1.244447   \n",
       "\n",
       "   Changement climatique (kg CO2 eq/kg de produit)  \\\n",
       "0                                        10.316175   \n",
       "1                                        14.898319   \n",
       "\n",
       "   Appauvrissement de la couche d'ozone (E-06 kg CVC11 eq/kg de produit)  \\\n",
       "0                                           2.376467                       \n",
       "1                                           3.418751                       \n",
       "\n",
       "   Acidification terrestre et eaux douces (mol H+ eq/kg de produit)  \\\n",
       "0                                           0.055054                  \n",
       "1                                           0.074669                  \n",
       "\n",
       "   DQR - Note de qualité de la donnée (1 excellente ; 5 très faible)  \n",
       "0                                               2.52                  \n",
       "1                                               2.79                  "
      ]
     },
     "execution_count": 10,
     "metadata": {},
     "output_type": "execute_result"
    }
   ],
   "source": [
    "produits_fort_impact_classement_emballage = produits_fort_impact.sort_values(\"Matériau d'emballage\",ascending = False)\n",
    "produits_fort_impact_classement_emballage.reset_index(drop=True).head(10)"
   ]
  },
  {
   "cell_type": "code",
   "execution_count": null,
   "metadata": {},
   "outputs": [],
   "source": [
    "produits_fort_impact_classement_preparation = produits_fort_impact.sort_values(\"Préparation\",ascending = False)\n",
    "produits_fort_impact_classement_preparation.reset_index(drop=True).head(10)"
   ]
  },
  {
   "cell_type": "markdown",
   "metadata": {},
   "source": [
    "***Remarque*** : Pour voir à quel point les disparités en termes de DQR influent sur le score unique moyen (et donc sur l'impact environnemental observé), on aurait pu faire les mêmes statistiques en nous restreignant aux données les plus fiables (DQR inférieur au DQR moyen pour avoir assez de données i.e. à 2,5). Pas utile en fait, car lorsqu'on regarde les aliments les plus polluants, on voit que les DQR sont fluctuants entre 2 et 3, ce qui suggère qu'il n'y a pas de biais dans la fiabilité des données pour les aliments à fort impact.\n",
    "\n",
    "Regardons également rapidement les produits à faible impact (on ne s'y intéressera plus beaucoup ensuite, à part peut-être pour imaginer des repas plus \"soutenables\" sur le plan environnemental). Fixons le seuil à la moitié de la valeur médiane du score unique (soit environ 0,25). Attention : on n'avait retiré les aliments ayant le plus faible impact sur le changement climatique, donc il faut aussi regarder le tableau de synthèse plus complet."
   ]
  },
  {
   "cell_type": "code",
   "execution_count": null,
   "metadata": {},
   "outputs": [],
   "source": [
    "produits_faible_impact = df_synthese_propre_1[df_synthese_propre_1[\"Score unique EF (mPt/kg de produit)\"]<0.25].sort_values(\"Score unique EF (mPt/kg de produit)\")\n",
    "produits_faible_impact.head(5)"
   ]
  },
  {
   "cell_type": "markdown",
   "metadata": {},
   "source": [
    "Cette fois, on s'aperçoit que les aliments à faible impact appartiennent à des groupes d'aliments assez variés, on va donc adopter une autre approche : comparer en classant par groupe d'aliment.\n",
    "\n",
    "### b) Statistiques sur des groupes d'aliments précis\n",
    "\n",
    "*L'idée de cette partie est de comparer l'impact environnemental d'aliments de la même famille, notamment dans le but de voir comment nous pouvons rendre nos repas plus respectueux de l'environnement (par substitution avec un aliment proche i.e. de la même famille).*"
   ]
  },
  {
   "cell_type": "code",
   "execution_count": 40,
   "metadata": {},
   "outputs": [
    {
     "data": {
      "text/html": [
       "<div>\n",
       "<style scoped>\n",
       "    .dataframe tbody tr th:only-of-type {\n",
       "        vertical-align: middle;\n",
       "    }\n",
       "\n",
       "    .dataframe tbody tr th {\n",
       "        vertical-align: top;\n",
       "    }\n",
       "\n",
       "    .dataframe thead tr th {\n",
       "        text-align: left;\n",
       "    }\n",
       "\n",
       "    .dataframe thead tr:last-of-type th {\n",
       "        text-align: right;\n",
       "    }\n",
       "</style>\n",
       "<table border=\"1\" class=\"dataframe\">\n",
       "  <thead>\n",
       "    <tr>\n",
       "      <th></th>\n",
       "      <th colspan=\"8\" halign=\"left\">Score unique EF (mPt/kg de produit)</th>\n",
       "    </tr>\n",
       "    <tr>\n",
       "      <th></th>\n",
       "      <th>count</th>\n",
       "      <th>mean</th>\n",
       "      <th>std</th>\n",
       "      <th>min</th>\n",
       "      <th>25%</th>\n",
       "      <th>50%</th>\n",
       "      <th>75%</th>\n",
       "      <th>max</th>\n",
       "    </tr>\n",
       "    <tr>\n",
       "      <th>Groupe d'aliment</th>\n",
       "      <th></th>\n",
       "      <th></th>\n",
       "      <th></th>\n",
       "      <th></th>\n",
       "      <th></th>\n",
       "      <th></th>\n",
       "      <th></th>\n",
       "      <th></th>\n",
       "    </tr>\n",
       "  </thead>\n",
       "  <tbody>\n",
       "    <tr>\n",
       "      <th>fruits, légumes, légumineuses et oléagineux</th>\n",
       "      <td>2.0</td>\n",
       "      <td>1.039832</td>\n",
       "      <td>0.28937</td>\n",
       "      <td>0.835217</td>\n",
       "      <td>0.937524</td>\n",
       "      <td>1.039832</td>\n",
       "      <td>1.14214</td>\n",
       "      <td>1.244447</td>\n",
       "    </tr>\n",
       "  </tbody>\n",
       "</table>\n",
       "</div>"
      ],
      "text/plain": [
       "                                            Score unique EF (mPt/kg de produit)  \\\n",
       "                                                                          count   \n",
       "Groupe d'aliment                                                                  \n",
       "fruits, légumes, légumineuses et oléagineux                                 2.0   \n",
       "\n",
       "                                                                          \\\n",
       "                                                 mean      std       min   \n",
       "Groupe d'aliment                                                           \n",
       "fruits, légumes, légumineuses et oléagineux  1.039832  0.28937  0.835217   \n",
       "\n",
       "                                                                          \\\n",
       "                                                  25%       50%      75%   \n",
       "Groupe d'aliment                                                           \n",
       "fruits, légumes, légumineuses et oléagineux  0.937524  1.039832  1.14214   \n",
       "\n",
       "                                                       \n",
       "                                                  max  \n",
       "Groupe d'aliment                                       \n",
       "fruits, légumes, légumineuses et oléagineux  1.244447  "
      ]
     },
     "execution_count": 40,
     "metadata": {},
     "output_type": "execute_result"
    }
   ],
   "source": [
    "df_synthese_propre_3=df_synthese_propre_1.copy()\n",
    "df_synthese_propre_3.drop([\"Changement climatique (kg CO2 eq/kg de produit)\", \"Appauvrissement de la couche d'ozone (E-06 kg CVC11 eq/kg de produit)\",\"Acidification terrestre et eaux douces (mol H+ eq/kg de produit)\", \"DQR - Note de qualité de la donnée (1 excellente ; 5 très faible)\"], axis='columns', inplace=True)\n",
    "\n",
    "#Commençons par effectuer les mêmes statistiques descriptives que tout à l'heure, mais pour chaque groupe d'aliment cette fois. On se concentre sur le score unique.\n",
    "df_synthese_propre_3.groupby(\"Groupe d'aliment\").describe()"
   ]
  },
  {
   "cell_type": "markdown",
   "metadata": {},
   "source": [
    "\n",
    "***Principales conclusions en comparant les différentes lignes :***\n",
    "\n",
    "* Ce sont bien \"viandes, oeufs et poissons\" qui ont l'impact environnemental moyen le plus élevé, et cette différence est nette avec toutes les autres catégories de produits, dans la mesure où le score unique moyen est plus de deux fois supérieur (1,72) à celui de la catégorie suivante. Il faudra néanmoins zoomer à l'intérieur de cette catégorie car l'écart-type est assez élevé (1,3), ce qui traduit d'importantes disparités.\n",
    "* Ensuite viennent les produits sucrés (score unique moyen:0,77) et les \"entrées et plats composés\"(pas surprenant car contiennent souvent de la viande, score unique moyen : 0,71). Néanmoins, les scores ne sont pas distribués de la même manière dans ces deux catégories si l'on compare les différences entre médiane et moyenne respectives. Remarquons tout de même que la pertinence de la comparaison qui va suivre est à nuancer sachant qu'il y a beaucoup plus d'aliments dans la seconde catégorie que dans la première.\n",
    "* D'une part, pour les produits sucrés (peu nombreux), la médiane et la moyenne sont proches, et le score maximal est à peine deux fois plus grand que le score moyen de cette catégorie (et plus faible que les scores max des autres catégories), ce qui signifie que les impacts environnementaux des produits de cette catégorie sont apparemment semblables.Une comparaison interne à ce groupe ne semble donc pas nécessaire pour répondre à notre problématique.\n",
    "* D'autre part, pour les plats composés et entrées, on a au contraire une plus forte dispersion des valeurs (qui sont bien plus nombreuses), dans la mesure où la médiane est bien inférieure à la moyenne du score unique et car le maximum est cette fois plus élevé. Hypothèse : on peut expliquer ces résultats par le fait que la plupart des aliments transformés en question contiennent de la viande, des oeufs ou du poisson ; qui ont un impact à la fois globalement plus élevé, mais aliments entre lesquels on trouve d'importants écarts en termes d'impacts.\n",
    "* Remarquons enfin que les familles d'aliments où l'impact moyen est le plus faible sont les suivantes : \"fruits,légumes, légumineuses et oléagineux\" et \"lait et produits laitiers\" (seules familles où le score moyen est sous 0,4). Néanmoins, dans le cas de la première, les quantiles suggèrent que la distribution des valeurs est également dispersée, ce qui justifie également de zoomer à l'intérieur de cette catégorie.\n",
    "\n",
    "Représentons graphiquement cette comparaison des scores moyens des différents groupes d'aliments. On en profite pour prendre en compte également les trois indicateurs que l'on a regardés (ainsi que DQR pour s'assurer que la qualité des données est comparable)."
   ]
  },
  {
   "cell_type": "code",
   "execution_count": null,
   "metadata": {},
   "outputs": [],
   "source": [
    "df_impact_moyens=df_synthese_propre_1.groupby(\"Groupe d'aliment\").mean()\n",
    "graph_impacts_moyens = df_impact_moyens.plot(kind=\"bar\")\n",
    "graph_impacts_moyens"
   ]
  },
  {
   "cell_type": "markdown",
   "metadata": {},
   "source": [
    "\n",
    "***Commentaire*** : En raison de son échelle, le graphique est surtout parlant pour comparer les groupes d'aliments en fonction de leur impact moyen sur le changement climatique (en orange). En effet, il en ressort nettement que \"viandes,oeufs et poissons\" sont largement devant (16.7), suivis par \"produits sucrés\", \"matières grasses\", puis \"entrées et plats composés\", alors que \"fruits, légumes, légumineuses et oléagineux\" ferment la marche.\n",
    "\n",
    "En dehors des impacts sur le changement climatique, on remarque que :\n",
    "\n",
    "* En termes d'appauvrissement de la couche d'ozone (en vert), c'est au contraire le groupe des \"fruits,légumes, légumineuses et oléagineux\" qui est largement devant tous les autres.\n",
    "* La qualité des données (en violet) est semblable pour tous les groupes, ce qui justifie ces comparaisons.\n",
    "\n",
    "D'après les analyses exploratoires précédentes, l'un des premiers leviers de réduction de l'impact environnemental de nos assiettes est donc de réduire la consommation de viandes ayant un fort impact et d'augmenter la consommation de fruits et légumes (en particulier ceux ayant un faible impact), ainsi que de produits laitiers. Comparons alors l'impact des différentes viandes et autres produits de la famille \"viandes,oeufs,poisson\" ainsi que celui des différents \"fruits et légumes\"pour voir comment faire concrètement."
   ]
  },
  {
   "cell_type": "markdown",
   "metadata": {},
   "source": [
    "Au sein de cette famille, les produits à privilégier pour réduire l'impact environnemental de son assiette sont certaines viandes crues (poulet,porc...), certaines charcuteries, ou encore des plats à base d'oeufs comme la tortilla."
   ]
  },
  {
   "cell_type": "code",
   "execution_count": null,
   "metadata": {},
   "outputs": [],
   "source": [
    "df_synthese_groupe_impact_fort = df_synthese_propre_1[df_synthese_propre_1[\"Groupe d'aliment\"] ==\"viandes, œufs, poissons\"]\n",
    "df_synthese_groupe_impact_fort.sort_values(\"Score unique EF (mPt/kg de produit)\").reset_index(drop=True).head(10)"
   ]
  },
  {
   "cell_type": "markdown",
   "metadata": {},
   "source": [
    "Au contraire, les aliments de cette famille qu'il faut éviter sont globalement les viandes cuites, et en particulier le boeuf et surtout l'agneau."
   ]
  },
  {
   "cell_type": "code",
   "execution_count": null,
   "metadata": {},
   "outputs": [],
   "source": [
    "df_synthese_groupe_impact_fort = df_synthese_propre_1[df_synthese_propre_1[\"Groupe d'aliment\"] ==\"viandes, œufs, poissons\"]\n",
    "df_synthese_groupe_impact_fort.sort_values(\"Score unique EF (mPt/kg de produit)\").reset_index(drop=True).tail(10)"
   ]
  },
  {
   "cell_type": "markdown",
   "metadata": {},
   "source": [
    "Voici quelques exemples de fruits ou légumes à privilégier : chou, courgette et carotte pour les légumes, ananas pour les fruits (mais la plupart sont des légumes, il n'y a pas beaucoup de fruits dans le bas du classement !). Pour en savoir plus sur les fruits, il faut grouper par sous-groupe (cf infra)."
   ]
  },
  {
   "cell_type": "code",
   "execution_count": null,
   "metadata": {},
   "outputs": [],
   "source": [
    "df_synthese_groupe_impact_faible = df_synthese_propre_1[df_synthese_propre_1[\"Groupe d'aliment\"] ==\"fruits, légumes, légumineuses et oléagineux\"]\n",
    "df_synthese_groupe_impact_faible.sort_values(\"Score unique EF (mPt/kg de produit)\").reset_index(drop=True).head(5)"
   ]
  },
  {
   "cell_type": "code",
   "execution_count": null,
   "metadata": {},
   "outputs": [],
   "source": [
    "df_synthese_groupe_impact_faible = df_synthese_propre_1[df_synthese_propre_1[\"Groupe d'aliment\"] ==\"fruits, légumes, légumineuses et oléagineux\"]\n",
    "df_synthese_groupe_impact_faible.sort_values(\"Score unique EF (mPt/kg de produit)\").reset_index(drop=True).tail(10)"
   ]
  },
  {
   "cell_type": "markdown",
   "metadata": {},
   "source": [
    "\n",
    "Les fruits et légumes à éviter (en fait, symétriquement, on a ici presque que des fruits, donc il faudra regarder ensuite par sous-groupe) sont la pêche (impact largement plus fort que les autres fruits comme on l'avait déjà remarqué), la tomate, le pruneau et la mangue pour les fruits ; oignon et haricots verts pour les légumes. \n",
    "\n",
    "On cherche donc quelques fruits à très faible impact environnemental (autres que l'ananas)."
   ]
  },
  {
   "cell_type": "code",
   "execution_count": null,
   "metadata": {},
   "outputs": [],
   "source": [
    "df_synthese_fruits = df_synthese_propre_1[df_synthese_propre_1[\"Sous-groupe d'aliment\"] ==\"fruits\"]\n",
    "df_synthese_fruits.sort_values(\"Score unique EF (mPt/kg de produit)\").reset_index(drop=True).head(10)"
   ]
  },
  {
   "cell_type": "markdown",
   "metadata": {},
   "source": [
    "\n",
    "Dans les fruits à privilégier, on retrouve notamment, avec un score unique inférieur à 0,3 :abricots au sirop, myrtille, banane et cassis crus..."
   ]
  },
  {
   "cell_type": "markdown",
   "metadata": {},
   "source": [
    "## 2) Tableau \"moins synthétique\"\n",
    "\n",
    "*Il est intéressant de revenir à un tableau plus riche en indicateurs afin d'affiner notre étude sur l'impact environnemental de notre alimentation*"
   ]
  },
  {
   "cell_type": "code",
   "execution_count": null,
   "metadata": {},
   "outputs": [],
   "source": [
    "df_synthese_propre_2 = df_synthese_propre_2.drop_duplicates(subset = ['Changement climatique (kg CO2 eq/kg de produit)'])\n",
    "df_synthese_propre_2.reset_index(drop=True)"
   ]
  },
  {
   "cell_type": "markdown",
   "metadata": {},
   "source": [
    "On va maintenant se concentrer que quelques aliments en particulier, et les décortiquer afin d'identifier des leviers de réduction de leur impact environnemental."
   ]
  },
  {
   "cell_type": "code",
   "execution_count": null,
   "metadata": {},
   "outputs": [],
   "source": [
    "df_synthese_propre_2[[\"Score unique EF (mPt/kg de produit)\"]].describe()"
   ]
  },
  {
   "cell_type": "markdown",
   "metadata": {},
   "source": [
    "Pour rappel, nous avions un biais de sélection dans le premier tableau : nous n'avions conservé que les aliments ayant un impact significatif sur le changement climatique (supérieur à 1) afin de saisir les éléments qui ont un impact environnemental significatif. Si ce choix pouvait paraître arbitraire, le résultat précédent permet de le justifier.\n",
    "\n",
    "En effet, en les conservant, nous remarquons que le score unique est plus faible (moyenne autour de 0,64) : les éléments ayant un impact sur le changement climatique le plus faible tirent vers le bas le score unique ; ce sont donc également ceux qui polluent le moins en général. Nous pouvons le vérifier en regardant la moyenne des indicateurs \"Appauvrissement de la couche d'ozone\" et \"Acidification terrrestre et eaux douces\". Leur moyenne est également plus faible dans le tableau synthese plus riche (voir précédent). Nous pouvons donc supposer qu'ils sont les moins polluants de manière générale et peuvent être négligés dans notre étude (nous reviendrons vers eux quand il s'agira de s'intéresser à la question \"comment réduire l'impact environnemental de notre assiette ?\"). De même, nous remarquons que le DQR moyen augmente légèrement : ceux qui ont un impact le plus faible en terme de changement climatique était également ceux qui ont en moyenne un DQR moyen plus élevé : ce sont également des données dont les indicateurs sont moins fiables que les autres aliments conservés.\n",
    "\n",
    "Nos premières études peuvent donc être effectuées à partir du tableau synthese allégée.\n",
    "\n",
    "Cependant, ce tableau synthèse avec davantage de critères permet de déterminer si le groupe d'aliments le plus polluant en général reste le plus polluant quand on se concentre que sur certains critères.\n",
    "\n",
    "Regardons par exemple les aliments les plus polluants en terme d'acidification terrestre et eau douce :"
   ]
  },
  {
   "cell_type": "code",
   "execution_count": null,
   "metadata": {},
   "outputs": [],
   "source": [
    "df_synthese_acidification = df_synthese.sort_values(\"Acidification terrestre et eaux douces (mol H+ eq/kg de produit)\",ascending = False)\n",
    "df_synthese_acidification.head(5)"
   ]
  },
  {
   "cell_type": "markdown",
   "metadata": {},
   "source": [
    "Les viandes cuites se distiguent toujours des autres aliments comme étant particulièrement polluant."
   ]
  },
  {
   "cell_type": "code",
   "execution_count": null,
   "metadata": {},
   "outputs": [],
   "source": [
    "df_synthese_rayonnements_ionisants = df_synthese.sort_values(\"Rayonnements ionisants (kBq U-235 eq/kg de produit)\",ascending = False)\n",
    "df_synthese_rayonnements_ionisants.head(5)"
   ]
  },
  {
   "cell_type": "markdown",
   "metadata": {},
   "source": [
    "En terme d'effet sur la santé, il est intéressant de remarquer que d'autres candidats apparaissent ;"
   ]
  },
  {
   "cell_type": "code",
   "execution_count": null,
   "metadata": {},
   "outputs": [],
   "source": [
    "df_synthese_eutrophisation_terrestre = df_synthese.sort_values(\"Eutrophisation terreste (mol N eq/kg de produit)\",ascending = False)\n",
    "df_synthese_eutrophisation_terrestre.head(5)"
   ]
  },
  {
   "cell_type": "markdown",
   "metadata": {},
   "source": [
    "Si quelques aliments peuvent dépasser ponctuellement les viandes en tête du classement des aliments les plus polluants en fonction des indicateurs proposés, le sous-groupe d'aliments des viandes cuites est systématiquement dans les premiers groupes d'aliments les plus impactant en terme d'environnement (le cas de l'épuisement des ressources en eau fait exception). Isolons donc ce sous-groupe groupe d'aliment :"
   ]
  },
  {
   "cell_type": "code",
   "execution_count": null,
   "metadata": {},
   "outputs": [],
   "source": [
    "df_synthese_viandes_cuites = df_synthese[df_synthese[\"Sous-groupe d'aliment\"] == \"viandes cuites\"]\n",
    "df_synthese_viandes_cuites.mean()-df_synthese.mean()"
   ]
  },
  {
   "cell_type": "markdown",
   "metadata": {},
   "source": [
    "Ainsi, nous remarquons en calculant une différence des moyennes que tous les indicateurs pour les viandes cuites présentent des coefficients moyens supérieurs à ceux de l'ensemble des aliments : ce sont donc en général le sous-groupe d'aliment le plus polluant dans l'ensemble des catégories d'indicateurs. Nous pouvons le voir également avec les graphiques suivants graphiques suivant : \n",
    "* le premier compare les scores uniques moyens des différents groupes d'aliments; \n",
    "* le second précise l'impact de chacun selon les différents indicateurs."
   ]
  },
  {
   "cell_type": "code",
   "execution_count": null,
   "metadata": {},
   "outputs": [],
   "source": [
    "df_synthese_score_unique = df_synthese_propre_2[[\"Groupe d'aliment\", \"Score unique EF (mPt/kg de produit)\"]]\n",
    "df_synthese_score_unique_graph = df_synthese_score_unique.groupby(\"Groupe d'aliment\").mean().plot(kind=\"bar\", stacked = True)"
   ]
  },
  {
   "cell_type": "markdown",
   "metadata": {},
   "source": [
    "On a bien la confirmation du classement effectué entre groupes d'aliments en fonction de leur score unique moyen. A FAIRE : réordonner les cellules pour que ce soit plus cohérent."
   ]
  },
  {
   "cell_type": "code",
   "execution_count": null,
   "metadata": {},
   "outputs": [],
   "source": [
    "df_synthese_copy = df_synthese_propre_2.copy()\n",
    "df_synthese_copy.drop([\"Score unique EF (mPt/kg de produit)\", \"DQR - Note de qualité de la donnée (1 excellente ; 5 très faible)\",\"Transport par avion (1 : par avion)\"], axis = \"columns\",inplace=True)\n",
    "df_synthese_moyenne_graph = df_synthese_copy.groupby(\"Groupe d'aliment\").mean().plot(kind=\"bar\", stacked = True).legend(bbox_to_anchor=(1.1, 1.05))"
   ]
  },
  {
   "cell_type": "markdown",
   "metadata": {},
   "source": [
    "\n",
    "Ce graphique permet en plus une comparaison relative des niveaux pris par les différents indicateurs en fonction des groupes. Bien sûr, on ne peut comparer les indicateurs entre eux (pas les mêmes unités), mais cela nous donne tout de même quelques enseignements supplémentaires :\n",
    "\n",
    "* L'utilisation du sol par \"viandes, oeufs et poissons\" est considérable si on la compare avec celle des autres groupes;\n",
    "* Certains groupes ont des \"profils\" proches en terme d'importance relative des différents indicateurs dans leur impact environnemental (aides culinaires et produits sucrés par exemple), alors que d'autres sont très dissemblables (viandes et fruits/légumes par exemple).\n",
    "\n",
    "Il serait intéressant de choisir un aliment parmi ses viandes cuites ou bien un plat à base de viandes cuites puis creuser l'origine de cet impact important sur l'environnement sur l'ensemble de ces indicateurs\n",
    "\n",
    "Regardons maintenant les produits à faible impact (nous sélectionnons par exemple ceux étant dans le premier quartile du score unique) :"
   ]
  },
  {
   "cell_type": "code",
   "execution_count": null,
   "metadata": {},
   "outputs": [],
   "source": [
    "aliments_peu_polluants = df_synthese_propre_2[df_synthese_propre_2[\"Score unique EF (mPt/kg de produit)\"]<0.178697].sort_values(\"Score unique EF (mPt/kg de produit)\")\n",
    "aliments_peu_polluants"
   ]
  },
  {
   "cell_type": "markdown",
   "metadata": {},
   "source": [
    "\n",
    "En plus des fruits et des légumes à privilégier, les produits laitiers,tels que le yaourt, sont également des produits que nous pourrions qualifier de \"propre\".\n",
    "\n",
    "Nous allons maintenant tenter de zoomer sur certains produits à impact élevé, en décortiquant leur composition et en évaluant l'impact par ingrédient.\n",
    "\n",
    "## 3) Tableau sur les ingrédients \n",
    "\n",
    "*On va ici regarder en priorité les aliments transformés et cuisinés (ce que ce tableau permet de faire et pas les autres), et donc principalement appartenant la famille \"entrées et plats composés\" (qui arrive en deuxième position en termes d'impact global).*"
   ]
  },
  {
   "cell_type": "code",
   "execution_count": null,
   "metadata": {},
   "outputs": [],
   "source": [
    "ingredients_cuisines = df_ingredients[df_ingredients[\"Groupe d'aliment\"] ==\"entrées et plats composés\"]\n",
    "\n",
    "#On va d'abord faire la somme des impacts de chaque ingrédient par plat étudié, pour comparer les plats eux-mêmes.\n",
    "produits_transformes = ingredients_cuisines.groupby('Nom Français').sum()\n",
    "\n",
    "#Faisons une rapide comparaison graphique de l'impact de dix d'entre eux (tirés aléatoirement) au sens des différents indicateurs.\n",
    "produits_transformes.sample(10).plot(kind = \"bar\")"
   ]
  },
  {
   "cell_type": "markdown",
   "metadata": {},
   "source": [
    "\n",
    "Lorsque l'on effectue un tirage aléatoire, on tombe sur des plats à impact relativement élevé sur le changement climatique (gratin de poisson), d'autres à impact modéré (sandwich jambon-beurre, chou farci) et d'autres à faible (pizza au fromage) voire à très faible impact (soupe aux légumes verts ou à la tomate). Les exemples entre parenthèses valent pour le premier tirage effectué."
   ]
  },
  {
   "cell_type": "markdown",
   "metadata": {},
   "source": [
    "Concetrons-nous plutôt sur les plats à fort impact."
   ]
  },
  {
   "cell_type": "code",
   "execution_count": null,
   "metadata": {},
   "outputs": [],
   "source": [
    "produits_transformes.sort_values(\"Score unique EF (mPt/kg de produit)\",ascending=False).head(20)"
   ]
  },
  {
   "cell_type": "markdown",
   "metadata": {},
   "source": [
    "On va maintenant en choisir un que nous allons décortiquer par ingrédient : Tajine de mouton (celui ayant le plus fort impact). Qu'est ce qui, dans sa composition, a le plus d'effets sur l'environnement ? "
   ]
  },
  {
   "cell_type": "code",
   "execution_count": null,
   "metadata": {},
   "outputs": [],
   "source": [
    "df_tajine = ingredients_cuisines[ingredients_cuisines[\"Nom Français\"] ==\"Tajine de mouton\"]\n",
    "df_tajine.sort_values(\"Score unique EF (mPt/kg de produit)\",ascending=False).reset_index(drop=True)"
   ]
  },
  {
   "cell_type": "markdown",
   "metadata": {},
   "source": [
    "\n",
    "On voit clairement que l'immense partie de l'impact environnemental de ce plat est dû à la viande, les autres ingrédients ayant des impacts relativement négligeables et semblables. Repérons plus clairement les sous-groupes d'aliments à plus ou moins fort impact (autres que les plats composés, pour lesquels on sait que la viande ou le poisson expliquent l'essentiel de l'impact)."
   ]
  },
  {
   "cell_type": "code",
   "execution_count": null,
   "metadata": {},
   "outputs": [],
   "source": [
    "produits_transformes_2 = ingredients_cuisines.groupby(\"Sous-groupe d'aliment\").mean()\n",
    "produits_transformes_2.plot(kind=\"barh\").legend(bbox_to_anchor=(1.1, 1.05))"
   ]
  },
  {
   "cell_type": "markdown",
   "metadata": {},
   "source": [
    "## 4) Tableau sur le cycle de vie des aliments "
   ]
  },
  {
   "cell_type": "code",
   "execution_count": 13,
   "metadata": {},
   "outputs": [
    {
     "data": {
      "text/plain": [
       "Score unique EF (mPt / kg de produit)-Moyenne                          0.106036\n",
       "Score unique EF (mPt / kg de produit) - Agriculture                    0.517223\n",
       "Score unique EF (mPt / kg de produit) - Transformation                 0.054580\n",
       "Score unique EF (mPt / kg de produit) - Emballage                      0.021757\n",
       "Score unique EF (mPt / kg de produit) - Transport                      0.021237\n",
       "Score unique EF (mPt / kg de produit) - Supermarché et distribution    0.011649\n",
       "Score unique EF (mPt / kg de produit) - Consommation                   0.009768\n",
       "DQR                                                                    2.500042\n",
       "dtype: float64"
      ]
     },
     "execution_count": 13,
     "metadata": {},
     "output_type": "execute_result"
    }
   ],
   "source": [
    "df_etapes.mean()"
   ]
  },
  {
   "cell_type": "markdown",
   "metadata": {},
   "source": [
    "A première vue, l'agriculture est l'étape qui pollue le plus lors du cycle de vie d'un aliment. Nous pouvons le vérifier graphiquement en considérant les sous-groupes d'aliments:"
   ]
  },
  {
   "cell_type": "code",
   "execution_count": 14,
   "metadata": {},
   "outputs": [
    {
     "data": {
      "text/plain": [
       "<matplotlib.legend.Legend at 0x2bd0f3493d0>"
      ]
     },
     "execution_count": 14,
     "metadata": {},
     "output_type": "execute_result"
    },
    {
     "data": {
      "image/png": "[encoded data removed]",
      "text/plain": [
       "<Figure size 720x936 with 1 Axes>"
      ]
     },
     "metadata": {
      "needs_background": "light"
     },
     "output_type": "display_data"
    }
   ],
   "source": [
    "df_etapes_copy = df_etapes.copy()\n",
    "df_etapes_copy.drop([\"DQR\", \"Score unique EF (mPt / kg de produit)-Moyenne\"], axis = \"columns\", inplace = True)\n",
    "df_etapes_copy.groupby(\"Sous-groupe d'aliment\").mean().plot(kind=\"bar\",stacked = True, figsize=(10,13)).legend(bbox_to_anchor=(1.1, 1.05),prop = {'size': 9})"
   ]
  },
  {
   "cell_type": "markdown",
   "metadata": {},
   "source": [
    "L'ensemble des sous-groupes d'aliment ont donc un score unique pour l'agriculture élevé : l'Agriculture tire vers le haut le score unique moyen. C'est donc bien l'étape la plus impactante environnementalement. Ceci nous amènera à nous pencher de plus près sur cette étape par la suite.\n",
    "\n",
    "On peut donc supposer que l'agriculture est donc l'étape la plus polluante pour les sous-groupes d'aliments au plus fort score unique moyen. Déterminons-les :"
   ]
  },
  {
   "cell_type": "code",
   "execution_count": 15,
   "metadata": {},
   "outputs": [
    {
     "data": {
      "text/html": [
       "<div>\n",
       "<style scoped>\n",
       "    .dataframe tbody tr th:only-of-type {\n",
       "        vertical-align: middle;\n",
       "    }\n",
       "\n",
       "    .dataframe tbody tr th {\n",
       "        vertical-align: top;\n",
       "    }\n",
       "\n",
       "    .dataframe thead th {\n",
       "        text-align: right;\n",
       "    }\n",
       "</style>\n",
       "<table border=\"1\" class=\"dataframe\">\n",
       "  <thead>\n",
       "    <tr style=\"text-align: right;\">\n",
       "      <th></th>\n",
       "      <th>Sous-groupe d'aliment</th>\n",
       "      <th>Nom du Produit en Français</th>\n",
       "      <th>Score unique EF (mPt / kg de produit)-Moyenne</th>\n",
       "      <th>Score unique EF (mPt / kg de produit) - Agriculture</th>\n",
       "      <th>Score unique EF (mPt / kg de produit) - Transformation</th>\n",
       "      <th>Score unique EF (mPt / kg de produit) - Emballage</th>\n",
       "      <th>Score unique EF (mPt / kg de produit) - Transport</th>\n",
       "      <th>Score unique EF (mPt / kg de produit) - Supermarché et distribution</th>\n",
       "      <th>Score unique EF (mPt / kg de produit) - Consommation</th>\n",
       "      <th>DQR</th>\n",
       "    </tr>\n",
       "  </thead>\n",
       "  <tbody>\n",
       "    <tr>\n",
       "      <th>9</th>\n",
       "      <td>viandes cuites</td>\n",
       "      <td>Agneau, collier, braisé ou bouilli</td>\n",
       "      <td>1.016084</td>\n",
       "      <td>5.976579</td>\n",
       "      <td>0.013313</td>\n",
       "      <td>0.027925</td>\n",
       "      <td>0.024134</td>\n",
       "      <td>0.014123</td>\n",
       "      <td>0.040431</td>\n",
       "      <td>2.65</td>\n",
       "    </tr>\n",
       "    <tr>\n",
       "      <th>336</th>\n",
       "      <td>autres produits à base de viande</td>\n",
       "      <td>Brochette d'agneau</td>\n",
       "      <td>1.013500</td>\n",
       "      <td>5.976579</td>\n",
       "      <td>0.016769</td>\n",
       "      <td>0.022340</td>\n",
       "      <td>0.019680</td>\n",
       "      <td>0.011298</td>\n",
       "      <td>0.034335</td>\n",
       "      <td>2.80</td>\n",
       "    </tr>\n",
       "    <tr>\n",
       "      <th>12</th>\n",
       "      <td>viandes cuites</td>\n",
       "      <td>Agneau, côte filet, grillée/poêlée</td>\n",
       "      <td>1.012773</td>\n",
       "      <td>5.979301</td>\n",
       "      <td>0.013723</td>\n",
       "      <td>0.027925</td>\n",
       "      <td>0.024302</td>\n",
       "      <td>0.014123</td>\n",
       "      <td>0.017267</td>\n",
       "      <td>2.65</td>\n",
       "    </tr>\n",
       "    <tr>\n",
       "      <th>19</th>\n",
       "      <td>viandes cuites</td>\n",
       "      <td>Agneau, épaule, maigre, rôtie/cuite au four</td>\n",
       "      <td>0.813199</td>\n",
       "      <td>4.781264</td>\n",
       "      <td>0.010650</td>\n",
       "      <td>0.022340</td>\n",
       "      <td>0.019307</td>\n",
       "      <td>0.011298</td>\n",
       "      <td>0.034335</td>\n",
       "      <td>2.65</td>\n",
       "    </tr>\n",
       "    <tr>\n",
       "      <th>16</th>\n",
       "      <td>viandes cuites</td>\n",
       "      <td>Agneau, côtelette, grillée</td>\n",
       "      <td>0.809888</td>\n",
       "      <td>4.783985</td>\n",
       "      <td>0.011060</td>\n",
       "      <td>0.022340</td>\n",
       "      <td>0.019475</td>\n",
       "      <td>0.011298</td>\n",
       "      <td>0.011170</td>\n",
       "      <td>2.65</td>\n",
       "    </tr>\n",
       "  </tbody>\n",
       "</table>\n",
       "</div>"
      ],
      "text/plain": [
       "                Sous-groupe d'aliment  \\\n",
       "9                      viandes cuites   \n",
       "336  autres produits à base de viande   \n",
       "12                     viandes cuites   \n",
       "19                     viandes cuites   \n",
       "16                     viandes cuites   \n",
       "\n",
       "                      Nom du Produit en Français  \\\n",
       "9             Agneau, collier, braisé ou bouilli   \n",
       "336                           Brochette d'agneau   \n",
       "12            Agneau, côte filet, grillée/poêlée   \n",
       "19   Agneau, épaule, maigre, rôtie/cuite au four   \n",
       "16                    Agneau, côtelette, grillée   \n",
       "\n",
       "     Score unique EF (mPt / kg de produit)-Moyenne  \\\n",
       "9                                         1.016084   \n",
       "336                                       1.013500   \n",
       "12                                        1.012773   \n",
       "19                                        0.813199   \n",
       "16                                        0.809888   \n",
       "\n",
       "     Score unique EF (mPt / kg de produit) - Agriculture  \\\n",
       "9                                             5.976579     \n",
       "336                                           5.976579     \n",
       "12                                            5.979301     \n",
       "19                                            4.781264     \n",
       "16                                            4.783985     \n",
       "\n",
       "     Score unique EF (mPt / kg de produit) - Transformation  \\\n",
       "9                                             0.013313        \n",
       "336                                           0.016769        \n",
       "12                                            0.013723        \n",
       "19                                            0.010650        \n",
       "16                                            0.011060        \n",
       "\n",
       "     Score unique EF (mPt / kg de produit) - Emballage  \\\n",
       "9                                             0.027925   \n",
       "336                                           0.022340   \n",
       "12                                            0.027925   \n",
       "19                                            0.022340   \n",
       "16                                            0.022340   \n",
       "\n",
       "     Score unique EF (mPt / kg de produit) - Transport  \\\n",
       "9                                             0.024134   \n",
       "336                                           0.019680   \n",
       "12                                            0.024302   \n",
       "19                                            0.019307   \n",
       "16                                            0.019475   \n",
       "\n",
       "     Score unique EF (mPt / kg de produit) - Supermarché et distribution  \\\n",
       "9                                             0.014123                     \n",
       "336                                           0.011298                     \n",
       "12                                            0.014123                     \n",
       "19                                            0.011298                     \n",
       "16                                            0.011298                     \n",
       "\n",
       "     Score unique EF (mPt / kg de produit) - Consommation   DQR  \n",
       "9                                             0.040431     2.65  \n",
       "336                                           0.034335     2.80  \n",
       "12                                            0.017267     2.65  \n",
       "19                                            0.034335     2.65  \n",
       "16                                            0.011170     2.65  "
      ]
     },
     "execution_count": 15,
     "metadata": {},
     "output_type": "execute_result"
    }
   ],
   "source": [
    "df_etapes_fort_impact = df_etapes.sort_values(\"Score unique EF (mPt / kg de produit)-Moyenne\", ascending = False)\n",
    "df_etapes_fort_impact.head(5)"
   ]
  },
  {
   "cell_type": "markdown",
   "metadata": {},
   "source": [
    "\n",
    "Les viandes cuites restent le sous-groupe à plus fort impact environnemental d'après le score unique moyen. Il s'agit désormais de mesurer la part de l'agriculture dans son score unique moyen :"
   ]
  },
  {
   "cell_type": "code",
   "execution_count": null,
   "metadata": {},
   "outputs": [],
   "source": [
    "df_etapes_viandescuites = df_etapes_copy[df_etapes_copy[\"Sous-groupe d'aliment\"]==\"viandes cuites\"]\n",
    "df_etapes_viandescuites_graph = df_etapes_viandescuites.mean().plot.pie(subplots=True, autopct='%.2f', fontsize=30, figsize=(20, 30))"
   ]
  },
  {
   "cell_type": "markdown",
   "metadata": {},
   "source": [
    "\n",
    "La part du score unique de l'agriculture dans le score unique moyen des viandes cuites est donc de 95%. Le plus grand enjeu environnemental se situe donc à cette étape et peut expliquer \"leur sur-impact\" sur l'environnement. Nous pouvons donc supposer que les principaux impacts naissent dès la culture des produits étudiés et que de là se rajoutent des effets environnementaux négligeables en comparaison lors des étapes de transformation, d'emballage, de transport ou encore de distibution/consommation.\n",
    "\n",
    "Si nous prenons le étudié précédemment tel que le tajine de mouton (cas intéressant parce que le mouton est comparable à l'agneau, une viande cuite qui a été indentifiée comme très impactante), à nouveau il est intéressant que l'étape agriculture se démarque :"
   ]
  },
  {
   "cell_type": "code",
   "execution_count": 16,
   "metadata": {},
   "outputs": [
    {
     "data": {
      "text/html": [
       "<div>\n",
       "<style scoped>\n",
       "    .dataframe tbody tr th:only-of-type {\n",
       "        vertical-align: middle;\n",
       "    }\n",
       "\n",
       "    .dataframe tbody tr th {\n",
       "        vertical-align: top;\n",
       "    }\n",
       "\n",
       "    .dataframe thead th {\n",
       "        text-align: right;\n",
       "    }\n",
       "</style>\n",
       "<table border=\"1\" class=\"dataframe\">\n",
       "  <thead>\n",
       "    <tr style=\"text-align: right;\">\n",
       "      <th></th>\n",
       "      <th>Sous-groupe d'aliment</th>\n",
       "      <th>Nom du Produit en Français</th>\n",
       "      <th>Score unique EF (mPt / kg de produit)-Moyenne</th>\n",
       "      <th>Score unique EF (mPt / kg de produit) - Agriculture</th>\n",
       "      <th>Score unique EF (mPt / kg de produit) - Transformation</th>\n",
       "      <th>Score unique EF (mPt / kg de produit) - Emballage</th>\n",
       "      <th>Score unique EF (mPt / kg de produit) - Transport</th>\n",
       "      <th>Score unique EF (mPt / kg de produit) - Supermarché et distribution</th>\n",
       "      <th>Score unique EF (mPt / kg de produit) - Consommation</th>\n",
       "      <th>DQR</th>\n",
       "    </tr>\n",
       "  </thead>\n",
       "  <tbody>\n",
       "    <tr>\n",
       "      <th>2298</th>\n",
       "      <td>plats composés</td>\n",
       "      <td>Tajine de mouton</td>\n",
       "      <td>0.539449</td>\n",
       "      <td>3.14623</td>\n",
       "      <td>0.042005</td>\n",
       "      <td>0.016119</td>\n",
       "      <td>0.016917</td>\n",
       "      <td>0.008979</td>\n",
       "      <td>0.006442</td>\n",
       "      <td>2.62</td>\n",
       "    </tr>\n",
       "  </tbody>\n",
       "</table>\n",
       "</div>"
      ],
      "text/plain": [
       "     Sous-groupe d'aliment Nom du Produit en Français  \\\n",
       "2298        plats composés           Tajine de mouton   \n",
       "\n",
       "      Score unique EF (mPt / kg de produit)-Moyenne  \\\n",
       "2298                                       0.539449   \n",
       "\n",
       "      Score unique EF (mPt / kg de produit) - Agriculture  \\\n",
       "2298                                            3.14623     \n",
       "\n",
       "      Score unique EF (mPt / kg de produit) - Transformation  \\\n",
       "2298                                           0.042005        \n",
       "\n",
       "      Score unique EF (mPt / kg de produit) - Emballage  \\\n",
       "2298                                           0.016119   \n",
       "\n",
       "      Score unique EF (mPt / kg de produit) - Transport  \\\n",
       "2298                                           0.016917   \n",
       "\n",
       "      Score unique EF (mPt / kg de produit) - Supermarché et distribution  \\\n",
       "2298                                           0.008979                     \n",
       "\n",
       "      Score unique EF (mPt / kg de produit) - Consommation   DQR  \n",
       "2298                                           0.006442     2.62  "
      ]
     },
     "execution_count": 16,
     "metadata": {},
     "output_type": "execute_result"
    }
   ],
   "source": [
    "df_etapes_tajine = df_etapes[df_etapes[\"Nom du Produit en Français\"] == \"Tajine de mouton\"]\n",
    "df_etapes_tajine"
   ]
  },
  {
   "cell_type": "markdown",
   "metadata": {},
   "source": [
    "Le score unique de l'étape agriculture tire à nouveau vers le haut le score unique moyen... Comment expliquer que l'Agriculture a autant d'impact aujourd'hui sur le score unique des groupes d'aliment ? Penchons-nous donc désormais sur l'étape Agriculture en particulier.\n",
    "\n",
    "**Limites de l'étude jusqu'ici :**\n",
    "\n",
    "* on suppose que l'impact environnemental d'un plat ou d'une recette peut résulter grossièrement de la somme de l'impact de chaque aliment, lui-même déterminé à parti de la somme du coefficient de chaque indicateur. Or rien ne dit que les effets sont linéaires et s'ajoutent tel quel.\n",
    "* difficile de retracer le chemin de l'aliment (grande diversité d'agneaux par exemple) et donc d'estimer précisément à partir de l'agriculture les déterminantes de l'impact au niveau de la synthèse\n",
    "\n",
    "## 5) Tableaux agriculture\n",
    "\n",
    "*Quel est le plus gros pb environnemental causé par l’agriculture ? Regarder par catégorie d’aliment Quel type de pratique agricole impacte le plus l’environnement ? Quelles différences entre bio et non-bio ?*\n",
    "\n",
    "### a) Produits non-bio"
   ]
  },
  {
   "cell_type": "markdown",
   "metadata": {},
   "source": [
    "\n",
    "Maintenant que nous avons une idée des impacts moyens engendrés par l'agriculture de nos aliments, recentrons nos analyses sur les catégories (viandes bovines, porcines, poissons, légumes, etc). Quelles sont celles qui ont un plus fort impact. Engendrent-elles des conséquences sur nos indicateurs dans les memes proportions ?"
   ]
  },
  {
   "cell_type": "code",
   "execution_count": 17,
   "metadata": {},
   "outputs": [
    {
     "data": {
      "text/plain": [
       "<matplotlib.legend.Legend at 0x2bd0f3561c0>"
      ]
     },
     "execution_count": 17,
     "metadata": {},
     "output_type": "execute_result"
    },
    {
     "data": {
      "image/png": "[encoded data removed]",
      "text/plain": [
       "<Figure size 432x288 with 1 Axes>"
      ]
     },
     "metadata": {
      "needs_background": "light"
     },
     "output_type": "display_data"
    }
   ],
   "source": [
    "df_agri_nonbio.groupby(\"Catégorie\").sum().sort_values('Changement climatique (en eq. kg CO2)', ascending = False).head(10).plot(kind=\"bar\", stacked = True).legend(bbox_to_anchor=(1.1,1.05))"
   ]
  },
  {
   "cell_type": "markdown",
   "metadata": {},
   "source": [
    "\n",
    "Nous pouvons tirer deux observations de ce graphique : la première c'est que deux groupes se distinguent particulièrement (la viande bovine, ovie et aviane ainsi que que les légumes en \"gros pollueurs\", les autres plus bas).La seconde est le large impact en rayonnements ionisants et effets sur la santé provoqué par l'agriculture des légumes.\n",
    "\n",
    "Concentrons nous désormais sur le changement climatique, sachant que cet indicateur est répertorié comme le plus robustes par Agribalyse."
   ]
  },
  {
   "cell_type": "code",
   "execution_count": 18,
   "metadata": {},
   "outputs": [
    {
     "data": {
      "text/html": [
       "<div>\n",
       "<style scoped>\n",
       "    .dataframe tbody tr th:only-of-type {\n",
       "        vertical-align: middle;\n",
       "    }\n",
       "\n",
       "    .dataframe tbody tr th {\n",
       "        vertical-align: top;\n",
       "    }\n",
       "\n",
       "    .dataframe thead th {\n",
       "        text-align: right;\n",
       "    }\n",
       "</style>\n",
       "<table border=\"1\" class=\"dataframe\">\n",
       "  <thead>\n",
       "    <tr style=\"text-align: right;\">\n",
       "      <th></th>\n",
       "      <th>Nom du produit</th>\n",
       "      <th>Changement climatique (en eq. kg CO2)</th>\n",
       "    </tr>\n",
       "  </thead>\n",
       "  <tbody>\n",
       "    <tr>\n",
       "      <th>17</th>\n",
       "      <td>Génisse allaitante  système d'engraissement co...</td>\n",
       "      <td>20.9806</td>\n",
       "    </tr>\n",
       "    <tr>\n",
       "      <th>31</th>\n",
       "      <td>Agneau système de production conventionnel, à ...</td>\n",
       "      <td>19.5897</td>\n",
       "    </tr>\n",
       "    <tr>\n",
       "      <th>16</th>\n",
       "      <td>Boeuf, moyenne nationale, à la  de la ferme / ...</td>\n",
       "      <td>16.9856</td>\n",
       "    </tr>\n",
       "    <tr>\n",
       "      <th>32</th>\n",
       "      <td>Agneau, conventionnel, système Roquefort, à la...</td>\n",
       "      <td>5.28971</td>\n",
       "    </tr>\n",
       "    <tr>\n",
       "      <th>34</th>\n",
       "      <td>Laine, conventionnel, système Roquefort, à la ...</td>\n",
       "      <td>5.22663</td>\n",
       "    </tr>\n",
       "    <tr>\n",
       "      <th>...</th>\n",
       "      <td>...</td>\n",
       "      <td>...</td>\n",
       "    </tr>\n",
       "    <tr>\n",
       "      <th>200</th>\n",
       "      <td>Oignon conventionnel, jour court semé, à la fe...</td>\n",
       "      <td>0.0540012</td>\n",
       "    </tr>\n",
       "    <tr>\n",
       "      <th>199</th>\n",
       "      <td>Oignon conventionnel, moyenne nationale, à la ...</td>\n",
       "      <td>0.0539465</td>\n",
       "    </tr>\n",
       "    <tr>\n",
       "      <th>198</th>\n",
       "      <td>Oignon conventionnel, jour long semé, à la fer...</td>\n",
       "      <td>0.0453794</td>\n",
       "    </tr>\n",
       "    <tr>\n",
       "      <th>164</th>\n",
       "      <td>Carotte conventionnelle de saison, avec l'empr...</td>\n",
       "      <td>0.0426529</td>\n",
       "    </tr>\n",
       "    <tr>\n",
       "      <th>123</th>\n",
       "      <td>Betteraves, moyen conventionnel, national, ali...</td>\n",
       "      <td>0.0286136</td>\n",
       "    </tr>\n",
       "  </tbody>\n",
       "</table>\n",
       "<p>240 rows × 2 columns</p>\n",
       "</div>"
      ],
      "text/plain": [
       "                                        Nom du produit  \\\n",
       "17   Génisse allaitante  système d'engraissement co...   \n",
       "31   Agneau système de production conventionnel, à ...   \n",
       "16   Boeuf, moyenne nationale, à la  de la ferme / ...   \n",
       "32   Agneau, conventionnel, système Roquefort, à la...   \n",
       "34   Laine, conventionnel, système Roquefort, à la ...   \n",
       "..                                                 ...   \n",
       "200  Oignon conventionnel, jour court semé, à la fe...   \n",
       "199  Oignon conventionnel, moyenne nationale, à la ...   \n",
       "198  Oignon conventionnel, jour long semé, à la fer...   \n",
       "164  Carotte conventionnelle de saison, avec l'empr...   \n",
       "123  Betteraves, moyen conventionnel, national, ali...   \n",
       "\n",
       "    Changement climatique (en eq. kg CO2)  \n",
       "17                                20.9806  \n",
       "31                                19.5897  \n",
       "16                                16.9856  \n",
       "32                                5.28971  \n",
       "34                                5.22663  \n",
       "..                                    ...  \n",
       "200                             0.0540012  \n",
       "199                             0.0539465  \n",
       "198                             0.0453794  \n",
       "164                             0.0426529  \n",
       "123                             0.0286136  \n",
       "\n",
       "[240 rows x 2 columns]"
      ]
     },
     "execution_count": 18,
     "metadata": {},
     "output_type": "execute_result"
    },
    {
     "data": {
      "text/plain": [
       "<matplotlib.axes._subplots.AxesSubplot at 0x2bd14831a00>"
      ]
     },
     "execution_count": 18,
     "metadata": {},
     "output_type": "execute_result"
    },
    {
     "data": {
      "image/png": "[encoded data removed]",
      "text/plain": [
       "<Figure size 432x288 with 1 Axes>"
      ]
     },
     "metadata": {
      "needs_background": "light"
     },
     "output_type": "display_data"
    }
   ],
   "source": [
    "df_agri_nonbio_changement_climatique = df_agri_nonbio[[\"Nom du produit\",'Changement climatique (en eq. kg CO2)']].sort_values('Changement climatique (en eq. kg CO2)', ascending = False)\n",
    "df_agri_nonbio_changement_climatique\n",
    "df_agri_nonbio_changement_climatique.plot(kind='box')"
   ]
  },
  {
   "cell_type": "markdown",
   "metadata": {},
   "source": [
    "\n",
    "La distribution est assez concentrée autour de faibles valeurs, mais quelques valeurs extrêmes beaucoup plus hautes sont repérables (comme pour les donneés sur l'impact des viandes dans le tableau de synthèse)"
   ]
  },
  {
   "cell_type": "code",
   "execution_count": 19,
   "metadata": {},
   "outputs": [
    {
     "data": {
      "text/html": [
       "<div>\n",
       "<style scoped>\n",
       "    .dataframe tbody tr th:only-of-type {\n",
       "        vertical-align: middle;\n",
       "    }\n",
       "\n",
       "    .dataframe tbody tr th {\n",
       "        vertical-align: top;\n",
       "    }\n",
       "\n",
       "    .dataframe thead th {\n",
       "        text-align: right;\n",
       "    }\n",
       "</style>\n",
       "<table border=\"1\" class=\"dataframe\">\n",
       "  <thead>\n",
       "    <tr style=\"text-align: right;\">\n",
       "      <th></th>\n",
       "      <th>Changement climatique (en eq. kg CO2)</th>\n",
       "    </tr>\n",
       "    <tr>\n",
       "      <th>Catégorie</th>\n",
       "      <th></th>\n",
       "    </tr>\n",
       "  </thead>\n",
       "  <tbody>\n",
       "    <tr>\n",
       "      <th>Agricultural\\Animal production\\Bovine\\Transformation</th>\n",
       "      <td>37.966201</td>\n",
       "    </tr>\n",
       "    <tr>\n",
       "      <th>Agricultural\\Animal production\\Ovine\\Transformation</th>\n",
       "      <td>35.312712</td>\n",
       "    </tr>\n",
       "    <tr>\n",
       "      <th>Agricultural\\Animal production\\Avian\\Transformation</th>\n",
       "      <td>34.620173</td>\n",
       "    </tr>\n",
       "    <tr>\n",
       "      <th>Agricultural\\Plant production\\Vegetables\\Transformation</th>\n",
       "      <td>33.896703</td>\n",
       "    </tr>\n",
       "    <tr>\n",
       "      <th>Agricultural\\Animal production\\Fish\\Transformation</th>\n",
       "      <td>13.113198</td>\n",
       "    </tr>\n",
       "    <tr>\n",
       "      <th>Agricultural\\Plant production\\Fruits\\Transformation</th>\n",
       "      <td>12.977493</td>\n",
       "    </tr>\n",
       "    <tr>\n",
       "      <th>Agricultural\\Plant production\\Cereals\\Transformation</th>\n",
       "      <td>12.383102</td>\n",
       "    </tr>\n",
       "    <tr>\n",
       "      <th>Agricultural\\Animal production\\Porcine\\Transformation</th>\n",
       "      <td>10.589155</td>\n",
       "    </tr>\n",
       "    <tr>\n",
       "      <th>Agricultural\\Animal production\\Dairy\\Transformation</th>\n",
       "      <td>9.630046</td>\n",
       "    </tr>\n",
       "    <tr>\n",
       "      <th>Agricultural\\Plant production\\Roughage\\Transformation</th>\n",
       "      <td>7.402491</td>\n",
       "    </tr>\n",
       "    <tr>\n",
       "      <th>Agricultural\\Plant production\\Oil seeds\\Transformation</th>\n",
       "      <td>7.026137</td>\n",
       "    </tr>\n",
       "    <tr>\n",
       "      <th>Agricultural\\Plant production\\Flowers and ornament crops\\Transformation</th>\n",
       "      <td>4.744067</td>\n",
       "    </tr>\n",
       "    <tr>\n",
       "      <th>Fishery\\Fishery products\\Frozen Saithe - NorthSea - Bottom Trawl</th>\n",
       "      <td>4.299919</td>\n",
       "    </tr>\n",
       "    <tr>\n",
       "      <th>Fishery\\Fishery products\\Albacore - NEA - Pelagic Trawl</th>\n",
       "      <td>4.248759</td>\n",
       "    </tr>\n",
       "    <tr>\n",
       "      <th>Fishery\\Fishery products\\Gadidae - CelticSea - Bottom Trawl</th>\n",
       "      <td>3.308957</td>\n",
       "    </tr>\n",
       "    <tr>\n",
       "      <th>Agricultural\\Animal production\\Other\\Transformation</th>\n",
       "      <td>2.737518</td>\n",
       "    </tr>\n",
       "    <tr>\n",
       "      <th>Fishery\\Fishery products\\Common Sole - BBiscay - Trammel Net</th>\n",
       "      <td>2.168957</td>\n",
       "    </tr>\n",
       "    <tr>\n",
       "      <th>Fishery\\Fishery products\\Fresh Saithe - NorthSea - Bottom Trawl</th>\n",
       "      <td>2.096664</td>\n",
       "    </tr>\n",
       "    <tr>\n",
       "      <th>Fishery\\Fishery products\\Yellowfin Tuna - ECA - Seine</th>\n",
       "      <td>1.918345</td>\n",
       "    </tr>\n",
       "    <tr>\n",
       "      <th>Fishery\\Fishery products\\Skipjack Tuna - ECA - Seine</th>\n",
       "      <td>1.905473</td>\n",
       "    </tr>\n",
       "    <tr>\n",
       "      <th>Fishery\\Fishery products\\Bluefin Tuna - MedSea - Longline</th>\n",
       "      <td>1.805547</td>\n",
       "    </tr>\n",
       "    <tr>\n",
       "      <th>Agricultural\\Plant production\\Legumes\\Transformation</th>\n",
       "      <td>1.748692</td>\n",
       "    </tr>\n",
       "    <tr>\n",
       "      <th>Fishery\\Fishery products\\Bluefin Tuna - MedSea - Seine</th>\n",
       "      <td>1.060409</td>\n",
       "    </tr>\n",
       "    <tr>\n",
       "      <th>Agricultural\\Plant production\\Other\\Transformation</th>\n",
       "      <td>1.023976</td>\n",
       "    </tr>\n",
       "    <tr>\n",
       "      <th>Fishery\\Fishery products\\Great Scallop - BSBrieuc - Dredge</th>\n",
       "      <td>0.682146</td>\n",
       "    </tr>\n",
       "    <tr>\n",
       "      <th>Fishery\\Fishery products\\Mackerel - NEA - Pelagic Trawl</th>\n",
       "      <td>0.536571</td>\n",
       "    </tr>\n",
       "    <tr>\n",
       "      <th>Fishery\\Fishery products\\Herring - NEA - Pelagic Trawl</th>\n",
       "      <td>0.527711</td>\n",
       "    </tr>\n",
       "    <tr>\n",
       "      <th>Agricultural\\Animal production\\Moules</th>\n",
       "      <td>0.456204</td>\n",
       "    </tr>\n",
       "    <tr>\n",
       "      <th>Fishery\\Fishery products\\European Anchovy - ECA - Seine</th>\n",
       "      <td>0.449995</td>\n",
       "    </tr>\n",
       "    <tr>\n",
       "      <th>Agricultural\\Plant production</th>\n",
       "      <td>0.362204</td>\n",
       "    </tr>\n",
       "    <tr>\n",
       "      <th>Agricultural\\Plant production\\Roots and tubers\\Transformation</th>\n",
       "      <td>0.352732</td>\n",
       "    </tr>\n",
       "    <tr>\n",
       "      <th>Fishery\\Fishery products\\European Pilchard - BBiscay - Seine</th>\n",
       "      <td>0.344935</td>\n",
       "    </tr>\n",
       "    <tr>\n",
       "      <th>Fishery\\Fishery products\\European Pilchard - ECA -Seine</th>\n",
       "      <td>0.139501</td>\n",
       "    </tr>\n",
       "  </tbody>\n",
       "</table>\n",
       "</div>"
      ],
      "text/plain": [
       "                                                    Changement climatique (en eq. kg CO2)\n",
       "Catégorie                                                                                \n",
       "Agricultural\\Animal production\\Bovine\\Transform...                              37.966201\n",
       "Agricultural\\Animal production\\Ovine\\Transforma...                              35.312712\n",
       "Agricultural\\Animal production\\Avian\\Transforma...                              34.620173\n",
       "Agricultural\\Plant production\\Vegetables\\Transf...                              33.896703\n",
       "Agricultural\\Animal production\\Fish\\Transformation                              13.113198\n",
       "Agricultural\\Plant production\\Fruits\\Transforma...                              12.977493\n",
       "Agricultural\\Plant production\\Cereals\\Transform...                              12.383102\n",
       "Agricultural\\Animal production\\Porcine\\Transfor...                              10.589155\n",
       "Agricultural\\Animal production\\Dairy\\Transforma...                               9.630046\n",
       "Agricultural\\Plant production\\Roughage\\Transfor...                               7.402491\n",
       "Agricultural\\Plant production\\Oil seeds\\Transfo...                               7.026137\n",
       "Agricultural\\Plant production\\Flowers and ornam...                               4.744067\n",
       "Fishery\\Fishery products\\Frozen Saithe - NorthS...                               4.299919\n",
       "Fishery\\Fishery products\\Albacore - NEA - Pelag...                               4.248759\n",
       "Fishery\\Fishery products\\Gadidae - CelticSea - ...                               3.308957\n",
       "Agricultural\\Animal production\\Other\\Transforma...                               2.737518\n",
       "Fishery\\Fishery products\\Common Sole - BBiscay ...                               2.168957\n",
       "Fishery\\Fishery products\\Fresh Saithe - NorthSe...                               2.096664\n",
       "Fishery\\Fishery products\\Yellowfin Tuna - ECA -...                               1.918345\n",
       "Fishery\\Fishery products\\Skipjack Tuna - ECA - ...                               1.905473\n",
       "Fishery\\Fishery products\\Bluefin Tuna - MedSea ...                               1.805547\n",
       "Agricultural\\Plant production\\Legumes\\Transform...                               1.748692\n",
       "Fishery\\Fishery products\\Bluefin Tuna - MedSea ...                               1.060409\n",
       "Agricultural\\Plant production\\Other\\Transformation                               1.023976\n",
       "Fishery\\Fishery products\\Great Scallop - BSBrie...                               0.682146\n",
       "Fishery\\Fishery products\\Mackerel - NEA - Pelag...                               0.536571\n",
       "Fishery\\Fishery products\\Herring - NEA - Pelagi...                               0.527711\n",
       "Agricultural\\Animal production\\Moules                                            0.456204\n",
       "Fishery\\Fishery products\\European Anchovy - ECA...                               0.449995\n",
       "Agricultural\\Plant production                                                    0.362204\n",
       "Agricultural\\Plant production\\Roots and tubers\\...                               0.352732\n",
       "Fishery\\Fishery products\\European Pilchard - BB...                               0.344935\n",
       "Fishery\\Fishery products\\European Pilchard - EC...                               0.139501"
      ]
     },
     "execution_count": 19,
     "metadata": {},
     "output_type": "execute_result"
    }
   ],
   "source": [
    "df_agri_nonbio_cat= df_agri_nonbio[[\"Catégorie\",\"Changement climatique (en eq. kg CO2)\"]].groupby(by = 'Catégorie').sum().sort_values('Changement climatique (en eq. kg CO2)', ascending = False).copy()\n",
    "df_agri_nonbio_cat"
   ]
  },
  {
   "cell_type": "markdown",
   "metadata": {},
   "source": [
    "Sans surprise, c'est encore la viande qui occupe le haut du podium. Cependant, on observe en quatrieme position les légumes (\"Vegetable\"), impactant le changement climatique fincipalement du fait de leur transformation agricole. \n",
    "\n",
    "Inversement, les produits de la pêche européenne figurent en bas du classement."
   ]
  },
  {
   "cell_type": "code",
   "execution_count": 20,
   "metadata": {},
   "outputs": [
    {
     "data": {
      "text/plain": [
       "<matplotlib.axes._subplots.AxesSubplot at 0x2bd14a1c850>"
      ]
     },
     "execution_count": 20,
     "metadata": {},
     "output_type": "execute_result"
    },
    {
     "data": {
      "image/png": "[encoded data removed]",
      "text/plain": [
       "<Figure size 432x288 with 1 Axes>"
      ]
     },
     "metadata": {
      "needs_background": "light"
     },
     "output_type": "display_data"
    }
   ],
   "source": [
    "df_agri_nonbio_cat.plot(kind='box')"
   ]
  },
  {
   "cell_type": "markdown",
   "metadata": {},
   "source": [
    "Ici, les données sont moins ramassé vers le bas. Mais il y a une constante : certains produits se détachent clairement du reste vers le haut du classement. C'est d'ailleurs ce qu'on retrouve dans le graphique ci-après entre les 4 premières catégories d'aliments et le reste. "
   ]
  },
  {
   "cell_type": "code",
   "execution_count": 21,
   "metadata": {},
   "outputs": [
    {
     "data": {
      "text/plain": [
       "<matplotlib.axes._subplots.AxesSubplot at 0x2bd14a72f10>"
      ]
     },
     "execution_count": 21,
     "metadata": {},
     "output_type": "execute_result"
    },
    {
     "data": {
      "image/png": "[encoded data removed]",
      "text/plain": [
       "<Figure size 432x288 with 1 Axes>"
      ]
     },
     "metadata": {
      "needs_background": "light"
     },
     "output_type": "display_data"
    }
   ],
   "source": [
    "df_agri_nonbio_cat.head(10).plot(kind='bar', stacked = True)"
   ]
  },
  {
   "cell_type": "markdown",
   "metadata": {},
   "source": [
    "### b) Produits issus de l'agriculture biologique\n",
    "\n",
    "On procède exactement de la même façon pour les produits biologiques."
   ]
  },
  {
   "cell_type": "code",
   "execution_count": 22,
   "metadata": {},
   "outputs": [
    {
     "data": {
      "text/plain": [
       "<matplotlib.legend.Legend at 0x2bd14a8ac10>"
      ]
     },
     "execution_count": 22,
     "metadata": {},
     "output_type": "execute_result"
    },
    {
     "data": {
      "image/png": "[encoded data removed]",
      "text/plain": [
       "<Figure size 432x288 with 1 Axes>"
      ]
     },
     "metadata": {
      "needs_background": "light"
     },
     "output_type": "display_data"
    }
   ],
   "source": [
    "\n",
    "df_agri_bio.groupby(\"Catégorie\").sum().sort_values('Changement climatique (en eq. kg CO2)', ascending = False).head(10).plot(kind=\"bar\", stacked = True).legend(bbox_to_anchor=(1.1,1.05))"
   ]
  },
  {
   "cell_type": "markdown",
   "metadata": {},
   "source": [
    "\n",
    "Ici, la viande est toujours en tête, mais cette fois ci, il apparait que les légumes n'ont aucun effet sur les rayonnements ionisants"
   ]
  },
  {
   "cell_type": "code",
   "execution_count": 23,
   "metadata": {},
   "outputs": [
    {
     "data": {
      "text/html": [
       "<div>\n",
       "<style scoped>\n",
       "    .dataframe tbody tr th:only-of-type {\n",
       "        vertical-align: middle;\n",
       "    }\n",
       "\n",
       "    .dataframe tbody tr th {\n",
       "        vertical-align: top;\n",
       "    }\n",
       "\n",
       "    .dataframe thead th {\n",
       "        text-align: right;\n",
       "    }\n",
       "</style>\n",
       "<table border=\"1\" class=\"dataframe\">\n",
       "  <thead>\n",
       "    <tr style=\"text-align: right;\">\n",
       "      <th></th>\n",
       "      <th>Nom du produit</th>\n",
       "      <th>Changement climatique (en eq. kg CO2)</th>\n",
       "    </tr>\n",
       "  </thead>\n",
       "  <tbody>\n",
       "    <tr>\n",
       "      <th>41</th>\n",
       "      <td>Réforme truie, biologique, système n ° 3, à la...</td>\n",
       "      <td>59.8712</td>\n",
       "    </tr>\n",
       "    <tr>\n",
       "      <th>42</th>\n",
       "      <td>Réforme truie, biologique, système n ° 4, à la...</td>\n",
       "      <td>39.5717</td>\n",
       "    </tr>\n",
       "    <tr>\n",
       "      <th>33</th>\n",
       "      <td>Lamb, biologique, système n ° 3, à la ferme / ...</td>\n",
       "      <td>25.3612</td>\n",
       "    </tr>\n",
       "    <tr>\n",
       "      <th>30</th>\n",
       "      <td>Réforme brebis, biologique, système n ° 3, à l...</td>\n",
       "      <td>20.6825</td>\n",
       "    </tr>\n",
       "    <tr>\n",
       "      <th>29</th>\n",
       "      <td>Réforme brebis, biologique, système n ° 2, à l...</td>\n",
       "      <td>17.9928</td>\n",
       "    </tr>\n",
       "    <tr>\n",
       "      <th>18</th>\n",
       "      <td>vache Réforme, biologique, système n ° 2, à la...</td>\n",
       "      <td>17.8022</td>\n",
       "    </tr>\n",
       "    <tr>\n",
       "      <th>17</th>\n",
       "      <td>vache Réforme, biologique, système n ° 1, à la...</td>\n",
       "      <td>17.0603</td>\n",
       "    </tr>\n",
       "    <tr>\n",
       "      <th>10</th>\n",
       "      <td>Veau, 13 jours, biologique, plaine système de ...</td>\n",
       "      <td>16.0572</td>\n",
       "    </tr>\n",
       "    <tr>\n",
       "      <th>31</th>\n",
       "      <td>Lamb, biologique, système n ° 1, à la ferme / ...</td>\n",
       "      <td>15.0398</td>\n",
       "    </tr>\n",
       "    <tr>\n",
       "      <th>38</th>\n",
       "      <td>truie Réforme, moyenne biologique, national, à...</td>\n",
       "      <td>13.0708</td>\n",
       "    </tr>\n",
       "  </tbody>\n",
       "</table>\n",
       "</div>"
      ],
      "text/plain": [
       "                                       Nom du produit  \\\n",
       "41  Réforme truie, biologique, système n ° 3, à la...   \n",
       "42  Réforme truie, biologique, système n ° 4, à la...   \n",
       "33  Lamb, biologique, système n ° 3, à la ferme / ...   \n",
       "30  Réforme brebis, biologique, système n ° 3, à l...   \n",
       "29  Réforme brebis, biologique, système n ° 2, à l...   \n",
       "18  vache Réforme, biologique, système n ° 2, à la...   \n",
       "17  vache Réforme, biologique, système n ° 1, à la...   \n",
       "10  Veau, 13 jours, biologique, plaine système de ...   \n",
       "31  Lamb, biologique, système n ° 1, à la ferme / ...   \n",
       "38  truie Réforme, moyenne biologique, national, à...   \n",
       "\n",
       "   Changement climatique (en eq. kg CO2)  \n",
       "41                               59.8712  \n",
       "42                               39.5717  \n",
       "33                               25.3612  \n",
       "30                               20.6825  \n",
       "29                               17.9928  \n",
       "18                               17.8022  \n",
       "17                               17.0603  \n",
       "10                               16.0572  \n",
       "31                               15.0398  \n",
       "38                               13.0708  "
      ]
     },
     "execution_count": 23,
     "metadata": {},
     "output_type": "execute_result"
    }
   ],
   "source": [
    "df_agri_bio_changement_climatique = df_agri_bio[[\"Nom du produit\",'Changement climatique (en eq. kg CO2)']].sort_values('Changement climatique (en eq. kg CO2)', ascending = False).head(10)\n",
    "df_agri_bio_changement_climatique"
   ]
  },
  {
   "cell_type": "markdown",
   "metadata": {},
   "source": [
    "Encore une fois, c'est la viande qui a le plus grand impact. On distingue pourtant ici des produtis spécifique : la truie, la brebis, la vache, le veau et l'agneau."
   ]
  },
  {
   "cell_type": "code",
   "execution_count": 24,
   "metadata": {},
   "outputs": [
    {
     "data": {
      "text/plain": [
       "<matplotlib.axes._subplots.AxesSubplot at 0x2bd13044040>"
      ]
     },
     "execution_count": 24,
     "metadata": {},
     "output_type": "execute_result"
    },
    {
     "data": {
      "image/png": "[encoded data removed]",
      "text/plain": [
       "<Figure size 432x288 with 1 Axes>"
      ]
     },
     "metadata": {
      "needs_background": "light"
     },
     "output_type": "display_data"
    }
   ],
   "source": [
    "df_agri_bio_changement_climatique.plot(kind='box')"
   ]
  },
  {
   "cell_type": "markdown",
   "metadata": {},
   "source": [
    "Ce diagramme montre que, cette fois ci, les données sont plus réparties meme ci un produit se détachent négativement sur reste : la truie. \n",
    "\n",
    "Comme précedemment, regroupons les catégorie pour adopter une vue d'ensemble "
   ]
  },
  {
   "cell_type": "code",
   "execution_count": 25,
   "metadata": {},
   "outputs": [
    {
     "data": {
      "text/html": [
       "<div>\n",
       "<style scoped>\n",
       "    .dataframe tbody tr th:only-of-type {\n",
       "        vertical-align: middle;\n",
       "    }\n",
       "\n",
       "    .dataframe tbody tr th {\n",
       "        vertical-align: top;\n",
       "    }\n",
       "\n",
       "    .dataframe thead th {\n",
       "        text-align: right;\n",
       "    }\n",
       "</style>\n",
       "<table border=\"1\" class=\"dataframe\">\n",
       "  <thead>\n",
       "    <tr style=\"text-align: right;\">\n",
       "      <th></th>\n",
       "      <th>Changement climatique (en eq. kg CO2)</th>\n",
       "    </tr>\n",
       "    <tr>\n",
       "      <th>Catégorie</th>\n",
       "      <th></th>\n",
       "    </tr>\n",
       "  </thead>\n",
       "  <tbody>\n",
       "    <tr>\n",
       "      <th>Agricultural\\Animal production\\Porcine\\Transformation</th>\n",
       "      <td>175.015114</td>\n",
       "    </tr>\n",
       "    <tr>\n",
       "      <th>Agricultural\\Animal production\\Bovine\\Transformation</th>\n",
       "      <td>147.492058</td>\n",
       "    </tr>\n",
       "    <tr>\n",
       "      <th>Agricultural\\Animal production\\Ovine\\Transformation</th>\n",
       "      <td>115.679525</td>\n",
       "    </tr>\n",
       "    <tr>\n",
       "      <th>Agricultural\\Animal production\\Avian\\Transformation</th>\n",
       "      <td>38.542715</td>\n",
       "    </tr>\n",
       "    <tr>\n",
       "      <th>Agricultural\\Plant production\\Legumes\\Transformation</th>\n",
       "      <td>26.788471</td>\n",
       "    </tr>\n",
       "    <tr>\n",
       "      <th>Agricultural\\Plant production\\Cereals\\Transformation</th>\n",
       "      <td>24.765599</td>\n",
       "    </tr>\n",
       "    <tr>\n",
       "      <th>Agricultural\\Plant production\\Intercrops\\Transformation</th>\n",
       "      <td>8.398198</td>\n",
       "    </tr>\n",
       "    <tr>\n",
       "      <th>Agricultural\\Animal production\\Dairy\\Transformation</th>\n",
       "      <td>6.451675</td>\n",
       "    </tr>\n",
       "    <tr>\n",
       "      <th>Agricultural\\Plant production\\Roughage\\Transformation</th>\n",
       "      <td>6.123840</td>\n",
       "    </tr>\n",
       "    <tr>\n",
       "      <th>Agricultural\\Plant production\\Oil seeds\\Transformation</th>\n",
       "      <td>4.972032</td>\n",
       "    </tr>\n",
       "    <tr>\n",
       "      <th>Agricultural\\Plant production\\Fruits\\Transformation</th>\n",
       "      <td>4.470843</td>\n",
       "    </tr>\n",
       "    <tr>\n",
       "      <th>Agricultural\\Plant production\\Vegetables\\Transformation</th>\n",
       "      <td>2.181802</td>\n",
       "    </tr>\n",
       "  </tbody>\n",
       "</table>\n",
       "</div>"
      ],
      "text/plain": [
       "                                                    Changement climatique (en eq. kg CO2)\n",
       "Catégorie                                                                                \n",
       "Agricultural\\Animal production\\Porcine\\Transfor...                             175.015114\n",
       "Agricultural\\Animal production\\Bovine\\Transform...                             147.492058\n",
       "Agricultural\\Animal production\\Ovine\\Transforma...                             115.679525\n",
       "Agricultural\\Animal production\\Avian\\Transforma...                              38.542715\n",
       "Agricultural\\Plant production\\Legumes\\Transform...                              26.788471\n",
       "Agricultural\\Plant production\\Cereals\\Transform...                              24.765599\n",
       "Agricultural\\Plant production\\Intercrops\\Transf...                               8.398198\n",
       "Agricultural\\Animal production\\Dairy\\Transforma...                               6.451675\n",
       "Agricultural\\Plant production\\Roughage\\Transfor...                               6.123840\n",
       "Agricultural\\Plant production\\Oil seeds\\Transfo...                               4.972032\n",
       "Agricultural\\Plant production\\Fruits\\Transforma...                               4.470843\n",
       "Agricultural\\Plant production\\Vegetables\\Transf...                               2.181802"
      ]
     },
     "execution_count": 25,
     "metadata": {},
     "output_type": "execute_result"
    }
   ],
   "source": [
    "df_agri_bio_cat= df_agri_bio[[\"Catégorie\",\"Changement climatique (en eq. kg CO2)\"]].groupby(by = 'Catégorie').sum().sort_values('Changement climatique (en eq. kg CO2)', ascending = False).copy()\n",
    "df_agri_bio_cat"
   ]
  },
  {
   "cell_type": "markdown",
   "metadata": {},
   "source": [
    "Sans surprise, la viande porcine prend la tête du classement, et les fruits et légumes ferment la marche. Encore une fois, le trio animal de tete est largement pire en terme de changement climatique que ses camarades, chose que nous retrouvons dans les graphiques ci après. "
   ]
  },
  {
   "cell_type": "code",
   "execution_count": 27,
   "metadata": {},
   "outputs": [
    {
     "data": {
      "text/plain": [
       "<matplotlib.axes._subplots.AxesSubplot at 0x2bd132224c0>"
      ]
     },
     "execution_count": 27,
     "metadata": {},
     "output_type": "execute_result"
    },
    {
     "data": {
      "text/plain": [
       "<matplotlib.axes._subplots.AxesSubplot at 0x2bd1326f370>"
      ]
     },
     "execution_count": 27,
     "metadata": {},
     "output_type": "execute_result"
    },
    {
     "data": {
      "image/png": "[encoded data removed]",
      "text/plain": [
       "<Figure size 432x288 with 1 Axes>"
      ]
     },
     "metadata": {
      "needs_background": "light"
     },
     "output_type": "display_data"
    },
    {
     "data": {
      "image/png": "[encoded data removed]",
      "text/plain": [
       "<Figure size 432x288 with 1 Axes>"
      ]
     },
     "metadata": {
      "needs_background": "light"
     },
     "output_type": "display_data"
    }
   ],
   "source": [
    "df_agri_bio_cat.plot(kind='box')\n",
    "df_agri_bio_cat.head(10).plot(kind='bar', stacked = True)"
   ]
  },
  {
   "cell_type": "markdown",
   "metadata": {},
   "source": [
    "### c) Comparaison bio/ non bio"
   ]
  },
  {
   "cell_type": "code",
   "execution_count": 28,
   "metadata": {},
   "outputs": [
    {
     "data": {
      "text/html": [
       "<div>\n",
       "<style scoped>\n",
       "    .dataframe tbody tr th:only-of-type {\n",
       "        vertical-align: middle;\n",
       "    }\n",
       "\n",
       "    .dataframe tbody tr th {\n",
       "        vertical-align: top;\n",
       "    }\n",
       "\n",
       "    .dataframe thead th {\n",
       "        text-align: right;\n",
       "    }\n",
       "</style>\n",
       "<table border=\"1\" class=\"dataframe\">\n",
       "  <thead>\n",
       "    <tr style=\"text-align: right;\">\n",
       "      <th></th>\n",
       "      <th>Changement climatique (en eq. kg CO2)</th>\n",
       "      <th>Appauvrissement de la couche d ozone (en eq. kg CFC11)</th>\n",
       "      <th>Rayonnements ionisants, effet sur la santé (en eq. kBq U-235)</th>\n",
       "      <th>Formation d ozone photochimique (en eq. kg NMVOC)</th>\n",
       "      <th>Substances inorganiques respiratoires (incidence de maladie)</th>\n",
       "      <th>Acidification (eq. mol H+)</th>\n",
       "      <th>Eutrophisation eau douce (en eq. kg P)</th>\n",
       "      <th>Eutrophisation marine (en eq. kg N)</th>\n",
       "      <th>Eutrophisation terrestre (en eq. mol N)</th>\n",
       "    </tr>\n",
       "  </thead>\n",
       "  <tbody>\n",
       "    <tr>\n",
       "      <th>0</th>\n",
       "      <td>1.049320</td>\n",
       "      <td>9.521967e-08</td>\n",
       "      <td>0.108562</td>\n",
       "      <td>0.005163</td>\n",
       "      <td>1.636942e-07</td>\n",
       "      <td>0.019641</td>\n",
       "      <td>0.000317</td>\n",
       "      <td>0.008636</td>\n",
       "      <td>0.079397</td>\n",
       "    </tr>\n",
       "    <tr>\n",
       "      <th>1</th>\n",
       "      <td>2.584709</td>\n",
       "      <td>8.166867e-08</td>\n",
       "      <td>0.127420</td>\n",
       "      <td>0.004708</td>\n",
       "      <td>2.514717e-07</td>\n",
       "      <td>0.038240</td>\n",
       "      <td>0.000402</td>\n",
       "      <td>0.020040</td>\n",
       "      <td>0.169300</td>\n",
       "    </tr>\n",
       "  </tbody>\n",
       "</table>\n",
       "</div>"
      ],
      "text/plain": [
       "   Changement climatique (en eq. kg CO2)  \\\n",
       "0                               1.049320   \n",
       "1                               2.584709   \n",
       "\n",
       "   Appauvrissement de la couche d ozone (en eq. kg CFC11)  \\\n",
       "0                                       9.521967e-08        \n",
       "1                                       8.166867e-08        \n",
       "\n",
       "   Rayonnements ionisants, effet sur la santé (en eq. kBq U-235)  \\\n",
       "0                                           0.108562               \n",
       "1                                           0.127420               \n",
       "\n",
       "   Formation d ozone photochimique (en eq. kg NMVOC)  \\\n",
       "0                                           0.005163   \n",
       "1                                           0.004708   \n",
       "\n",
       "   Substances inorganiques respiratoires (incidence de maladie)  \\\n",
       "0                                       1.636942e-07              \n",
       "1                                       2.514717e-07              \n",
       "\n",
       "   Acidification (eq. mol H+)  Eutrophisation eau douce (en eq. kg P)  \\\n",
       "0                    0.019641                                0.000317   \n",
       "1                    0.038240                                0.000402   \n",
       "\n",
       "   Eutrophisation marine (en eq. kg N)  \\\n",
       "0                             0.008636   \n",
       "1                             0.020040   \n",
       "\n",
       "   Eutrophisation terrestre (en eq. mol N)  \n",
       "0                                 0.079397  \n",
       "1                                 0.169300  "
      ]
     },
     "execution_count": 28,
     "metadata": {},
     "output_type": "execute_result"
    },
    {
     "data": {
      "text/plain": [
       "<matplotlib.legend.Legend at 0x2bd14bb77f0>"
      ]
     },
     "execution_count": 28,
     "metadata": {},
     "output_type": "execute_result"
    },
    {
     "data": {
      "image/png": "[encoded data removed]",
      "text/plain": [
       "<Figure size 432x288 with 1 Axes>"
      ]
     },
     "metadata": {
      "needs_background": "light"
     },
     "output_type": "display_data"
    }
   ],
   "source": [
    "df_new_line_bio = pd.DataFrame([df_agri_bio.mean()], columns = [\"Changement climatique (en eq. kg CO2)\",\"Appauvrissement de la couche d ozone (en eq. kg CFC11)\",\"Rayonnements ionisants, effet sur la santé (en eq. kBq U-235)\",\"Formation d ozone photochimique (en eq. kg NMVOC)\",\"Substances inorganiques respiratoires (incidence de maladie)\",\"Acidification (eq. mol H+)\",\"Eutrophisation eau douce (en eq. kg P)\",\"Eutrophisation marine (en eq. kg N)\",\"Eutrophisation terrestre (en eq. mol N)\"])\n",
    "df_new_line_nonbio = pd.DataFrame([df_agri_nonbio.mean()], columns = [\"Changement climatique (en eq. kg CO2)\",\"Appauvrissement de la couche d ozone (en eq. kg CFC11)\",\"Rayonnements ionisants, effet sur la santé (en eq. kBq U-235)\",\"Formation d ozone photochimique (en eq. kg NMVOC)\",\"Substances inorganiques respiratoires (incidence de maladie)\",\"Acidification (eq. mol H+)\",\"Eutrophisation eau douce (en eq. kg P)\",\"Eutrophisation marine (en eq. kg N)\",\"Eutrophisation terrestre (en eq. mol N)\"])\n",
    "df_comparaison = pd.concat([df_new_line_nonbio,df_new_line_bio],ignore_index= True)\n",
    "df_comparaison\n",
    "df_comparaison.plot(kind='bar', stacked = True).legend(bbox_to_anchor=(1.1,1.05))"
   ]
  },
  {
   "cell_type": "markdown",
   "metadata": {},
   "source": [
    "On observe un résultat étrange: les produits bio ont en moyenne un impact supérieur ! Hypothèse : comme les produits étudiés ne sont pas les mêmes dans les deux tableaux, il y a sans doute un biais de sélection (pour les produits bios, il s'agit sans doute de produits qui ont globalement un impact supérieur qu'ils soient bios ou non, aux produits non-bio étudiés), qui explique ce résultat contre-intuitif, mais qui interdit d'y voir un effet causal (qui signifierait que ce serait parce qu'ils sont bio que les produits polluent, ce qui est absurde)."
   ]
  },
  {
   "cell_type": "markdown",
   "metadata": {},
   "source": [
    "**Retour sur un plat cuisiné : le tajine de mouton**\n",
    "\n",
    "Regardons plus en détail l'empreinte agricole du tajine de mouton. D'après le tableau des ingrédients ci-dessus, le Tajine est composé de viande d'agneau, d'huile d'olive, d'oignons, de tomates, d'olives, de courgettes, de sucre blanc et de miel.\n",
    "\n",
    "Nous allons comparer tajine non biologique et tajine biologique.\n"
   ]
  },
  {
   "cell_type": "code",
   "execution_count": 29,
   "metadata": {},
   "outputs": [
    {
     "data": {
      "text/html": [
       "<div>\n",
       "<style scoped>\n",
       "    .dataframe tbody tr th:only-of-type {\n",
       "        vertical-align: middle;\n",
       "    }\n",
       "\n",
       "    .dataframe tbody tr th {\n",
       "        vertical-align: top;\n",
       "    }\n",
       "\n",
       "    .dataframe thead th {\n",
       "        text-align: right;\n",
       "    }\n",
       "</style>\n",
       "<table border=\"1\" class=\"dataframe\">\n",
       "  <thead>\n",
       "    <tr style=\"text-align: right;\">\n",
       "      <th></th>\n",
       "      <th>Nom du produit</th>\n",
       "      <th>Catégorie</th>\n",
       "      <th>Changement climatique (en eq. kg CO2)</th>\n",
       "      <th>Appauvrissement de la couche d ozone (en eq. kg CFC11)</th>\n",
       "      <th>Rayonnements ionisants, effet sur la santé (en eq. kBq U-235)</th>\n",
       "      <th>Formation d ozone photochimique (en eq. kg NMVOC)</th>\n",
       "      <th>Substances inorganiques respiratoires (incidence de maladie)</th>\n",
       "      <th>Acidification (eq. mol H+)</th>\n",
       "      <th>Eutrophisation eau douce (en eq. kg P)</th>\n",
       "      <th>Eutrophisation marine (en eq. kg N)</th>\n",
       "      <th>Eutrophisation terrestre (en eq. mol N)</th>\n",
       "    </tr>\n",
       "  </thead>\n",
       "  <tbody>\n",
       "    <tr>\n",
       "      <th>32</th>\n",
       "      <td>Agneau, conventionnel, système Roquefort, à la...</td>\n",
       "      <td>Agricultural\\Animal production\\Ovine\\Transform...</td>\n",
       "      <td>5.28971</td>\n",
       "      <td>1.15332e-07</td>\n",
       "      <td>0.249992</td>\n",
       "      <td>0.00590815</td>\n",
       "      <td>7.1411e-07</td>\n",
       "      <td>0.104666</td>\n",
       "      <td>0.000245465</td>\n",
       "      <td>0.0215262</td>\n",
       "      <td>0.464752</td>\n",
       "    </tr>\n",
       "    <tr>\n",
       "      <th>199</th>\n",
       "      <td>Oignon conventionnel, moyenne nationale, à la ...</td>\n",
       "      <td>Agricultural\\Plant production\\Vegetables\\Trans...</td>\n",
       "      <td>0.0539465</td>\n",
       "      <td>1.16202e-08</td>\n",
       "      <td>0.038109</td>\n",
       "      <td>0.000337185</td>\n",
       "      <td>3.9524e-09</td>\n",
       "      <td>0.000678278</td>\n",
       "      <td>3.5755e-05</td>\n",
       "      <td>0.00154375</td>\n",
       "      <td>0.00229033</td>\n",
       "    </tr>\n",
       "    <tr>\n",
       "      <th>212</th>\n",
       "      <td>Tomate conventionnelle, panier moyen, serre ch...</td>\n",
       "      <td>Agricultural\\Plant production\\Vegetables\\Trans...</td>\n",
       "      <td>2.36228</td>\n",
       "      <td>3.98625e-07</td>\n",
       "      <td>0.202376</td>\n",
       "      <td>0.00329812</td>\n",
       "      <td>5.61111e-08</td>\n",
       "      <td>0.00569136</td>\n",
       "      <td>0.000566563</td>\n",
       "      <td>0.00278114</td>\n",
       "      <td>0.0130372</td>\n",
       "    </tr>\n",
       "    <tr>\n",
       "      <th>202</th>\n",
       "      <td>Courgette conventionnelle, moyenne nationale, ...</td>\n",
       "      <td>Agricultural\\Plant production\\Vegetables\\Trans...</td>\n",
       "      <td>0.146887</td>\n",
       "      <td>1.69283e-08</td>\n",
       "      <td>0.0276366</td>\n",
       "      <td>0.000855528</td>\n",
       "      <td>8.33909e-09</td>\n",
       "      <td>0.00149362</td>\n",
       "      <td>4.11995e-05</td>\n",
       "      <td>0.00121632</td>\n",
       "      <td>0.00680692</td>\n",
       "    </tr>\n",
       "  </tbody>\n",
       "</table>\n",
       "</div>"
      ],
      "text/plain": [
       "                                        Nom du produit  \\\n",
       "32   Agneau, conventionnel, système Roquefort, à la...   \n",
       "199  Oignon conventionnel, moyenne nationale, à la ...   \n",
       "212  Tomate conventionnelle, panier moyen, serre ch...   \n",
       "202  Courgette conventionnelle, moyenne nationale, ...   \n",
       "\n",
       "                                             Catégorie  \\\n",
       "32   Agricultural\\Animal production\\Ovine\\Transform...   \n",
       "199  Agricultural\\Plant production\\Vegetables\\Trans...   \n",
       "212  Agricultural\\Plant production\\Vegetables\\Trans...   \n",
       "202  Agricultural\\Plant production\\Vegetables\\Trans...   \n",
       "\n",
       "    Changement climatique (en eq. kg CO2)  \\\n",
       "32                                5.28971   \n",
       "199                             0.0539465   \n",
       "212                               2.36228   \n",
       "202                              0.146887   \n",
       "\n",
       "    Appauvrissement de la couche d ozone (en eq. kg CFC11)  \\\n",
       "32                                         1.15332e-07       \n",
       "199                                        1.16202e-08       \n",
       "212                                        3.98625e-07       \n",
       "202                                        1.69283e-08       \n",
       "\n",
       "    Rayonnements ionisants, effet sur la santé (en eq. kBq U-235)  \\\n",
       "32                                            0.249992              \n",
       "199                                           0.038109              \n",
       "212                                           0.202376              \n",
       "202                                          0.0276366              \n",
       "\n",
       "    Formation d ozone photochimique (en eq. kg NMVOC)  \\\n",
       "32                                         0.00590815   \n",
       "199                                       0.000337185   \n",
       "212                                        0.00329812   \n",
       "202                                       0.000855528   \n",
       "\n",
       "    Substances inorganiques respiratoires (incidence de maladie)  \\\n",
       "32                                          7.1411e-07             \n",
       "199                                         3.9524e-09             \n",
       "212                                        5.61111e-08             \n",
       "202                                        8.33909e-09             \n",
       "\n",
       "    Acidification (eq. mol H+) Eutrophisation eau douce (en eq. kg P)  \\\n",
       "32                    0.104666                            0.000245465   \n",
       "199                0.000678278                             3.5755e-05   \n",
       "212                 0.00569136                            0.000566563   \n",
       "202                 0.00149362                            4.11995e-05   \n",
       "\n",
       "    Eutrophisation marine (en eq. kg N)  \\\n",
       "32                            0.0215262   \n",
       "199                          0.00154375   \n",
       "212                          0.00278114   \n",
       "202                          0.00121632   \n",
       "\n",
       "    Eutrophisation terrestre (en eq. mol N)  \n",
       "32                                 0.464752  \n",
       "199                              0.00229033  \n",
       "212                               0.0130372  \n",
       "202                              0.00680692  "
      ]
     },
     "execution_count": 29,
     "metadata": {},
     "output_type": "execute_result"
    }
   ],
   "source": [
    "df_agri_tajine_nonbio = pd.concat([df_agri_nonbio[df_agri_nonbio[\"Nom du produit\"]==\"Agneau, conventionnel, système Roquefort, à la ferme / FR U\"],df_agri_nonbio[df_agri_nonbio[\"Nom du produit\"]==\"Oignon conventionnel, moyenne nationale, à la ferme / FR U\"],df_agri_nonbio[df_agri_nonbio[\"Nom du produit\"]==\"Tomate conventionnelle, panier moyen, serre chauffée, moyenne nationale, à la ferme / FR U\"],df_agri_nonbio[df_agri_nonbio[\"Nom du produit\"]==\"Courgette conventionnelle, moyenne nationale, à la ferme / FR U\"]])\n",
    "df_agri_tajine_nonbio"
   ]
  },
  {
   "cell_type": "code",
   "execution_count": 30,
   "metadata": {
    "scrolled": true
   },
   "outputs": [
    {
     "data": {
      "text/html": [
       "<div>\n",
       "<style scoped>\n",
       "    .dataframe tbody tr th:only-of-type {\n",
       "        vertical-align: middle;\n",
       "    }\n",
       "\n",
       "    .dataframe tbody tr th {\n",
       "        vertical-align: top;\n",
       "    }\n",
       "\n",
       "    .dataframe thead th {\n",
       "        text-align: right;\n",
       "    }\n",
       "</style>\n",
       "<table border=\"1\" class=\"dataframe\">\n",
       "  <thead>\n",
       "    <tr style=\"text-align: right;\">\n",
       "      <th></th>\n",
       "      <th>Nom du produit</th>\n",
       "      <th>Catégorie</th>\n",
       "      <th>Changement climatique (en eq. kg CO2)</th>\n",
       "      <th>Appauvrissement de la couche d ozone (en eq. kg CFC11)</th>\n",
       "      <th>Rayonnements ionisants, effet sur la santé (en eq. kBq U-235)</th>\n",
       "      <th>Formation d ozone photochimique (en eq. kg NMVOC)</th>\n",
       "      <th>Substances inorganiques respiratoires (incidence de maladie)</th>\n",
       "      <th>Acidification (eq. mol H+)</th>\n",
       "      <th>Eutrophisation eau douce (en eq. kg P)</th>\n",
       "      <th>Eutrophisation marine (en eq. kg N)</th>\n",
       "      <th>Eutrophisation terrestre (en eq. mol N)</th>\n",
       "    </tr>\n",
       "  </thead>\n",
       "  <tbody>\n",
       "    <tr>\n",
       "      <th>31</th>\n",
       "      <td>Lamb, biologique, système n ° 1, à la ferme / ...</td>\n",
       "      <td>Agricultural\\Animal production\\Ovine\\Transform...</td>\n",
       "      <td>15.0398</td>\n",
       "      <td>2.3292e-07</td>\n",
       "      <td>0.11931</td>\n",
       "      <td>0.0176732</td>\n",
       "      <td>7.48907e-07</td>\n",
       "      <td>0.115401</td>\n",
       "      <td>0.000622138</td>\n",
       "      <td>0.0763973</td>\n",
       "      <td>0.516235</td>\n",
       "    </tr>\n",
       "    <tr>\n",
       "      <th>199</th>\n",
       "      <td>Oignon conventionnel, moyenne nationale, à la ...</td>\n",
       "      <td>Agricultural\\Plant production\\Vegetables\\Trans...</td>\n",
       "      <td>0.0539465</td>\n",
       "      <td>1.16202e-08</td>\n",
       "      <td>0.038109</td>\n",
       "      <td>0.000337185</td>\n",
       "      <td>3.9524e-09</td>\n",
       "      <td>0.000678278</td>\n",
       "      <td>3.5755e-05</td>\n",
       "      <td>0.00154375</td>\n",
       "      <td>0.00229033</td>\n",
       "    </tr>\n",
       "    <tr>\n",
       "      <th>219</th>\n",
       "      <td>Tomate, biologique, la production à effet de s...</td>\n",
       "      <td>Agricultural\\Plant production\\Vegetables\\Trans...</td>\n",
       "      <td>0.205365</td>\n",
       "      <td>2.39061e-08</td>\n",
       "      <td>0.0455336</td>\n",
       "      <td>0.000673468</td>\n",
       "      <td>1.04074e-08</td>\n",
       "      <td>0.00174245</td>\n",
       "      <td>4.16843e-05</td>\n",
       "      <td>0.000338623</td>\n",
       "      <td>0.00879566</td>\n",
       "    </tr>\n",
       "    <tr>\n",
       "      <th>218</th>\n",
       "      <td>Courge, printemps, sous tunnel, porte biologiq...</td>\n",
       "      <td>Agricultural\\Plant production\\Vegetables\\Trans...</td>\n",
       "      <td>0.161423</td>\n",
       "      <td>1.6041e-08</td>\n",
       "      <td>0.0419865</td>\n",
       "      <td>0.000773917</td>\n",
       "      <td>9.47409e-09</td>\n",
       "      <td>0.00171381</td>\n",
       "      <td>3.80417e-05</td>\n",
       "      <td>0.00051385</td>\n",
       "      <td>0.00914471</td>\n",
       "    </tr>\n",
       "  </tbody>\n",
       "</table>\n",
       "</div>"
      ],
      "text/plain": [
       "                                        Nom du produit  \\\n",
       "31   Lamb, biologique, système n ° 1, à la ferme / ...   \n",
       "199  Oignon conventionnel, moyenne nationale, à la ...   \n",
       "219  Tomate, biologique, la production à effet de s...   \n",
       "218  Courge, printemps, sous tunnel, porte biologiq...   \n",
       "\n",
       "                                             Catégorie  \\\n",
       "31   Agricultural\\Animal production\\Ovine\\Transform...   \n",
       "199  Agricultural\\Plant production\\Vegetables\\Trans...   \n",
       "219  Agricultural\\Plant production\\Vegetables\\Trans...   \n",
       "218  Agricultural\\Plant production\\Vegetables\\Trans...   \n",
       "\n",
       "    Changement climatique (en eq. kg CO2)  \\\n",
       "31                                15.0398   \n",
       "199                             0.0539465   \n",
       "219                              0.205365   \n",
       "218                              0.161423   \n",
       "\n",
       "    Appauvrissement de la couche d ozone (en eq. kg CFC11)  \\\n",
       "31                                          2.3292e-07       \n",
       "199                                        1.16202e-08       \n",
       "219                                        2.39061e-08       \n",
       "218                                         1.6041e-08       \n",
       "\n",
       "    Rayonnements ionisants, effet sur la santé (en eq. kBq U-235)  \\\n",
       "31                                             0.11931              \n",
       "199                                           0.038109              \n",
       "219                                          0.0455336              \n",
       "218                                          0.0419865              \n",
       "\n",
       "    Formation d ozone photochimique (en eq. kg NMVOC)  \\\n",
       "31                                          0.0176732   \n",
       "199                                       0.000337185   \n",
       "219                                       0.000673468   \n",
       "218                                       0.000773917   \n",
       "\n",
       "    Substances inorganiques respiratoires (incidence de maladie)  \\\n",
       "31                                         7.48907e-07             \n",
       "199                                         3.9524e-09             \n",
       "219                                        1.04074e-08             \n",
       "218                                        9.47409e-09             \n",
       "\n",
       "    Acidification (eq. mol H+) Eutrophisation eau douce (en eq. kg P)  \\\n",
       "31                    0.115401                            0.000622138   \n",
       "199                0.000678278                             3.5755e-05   \n",
       "219                 0.00174245                            4.16843e-05   \n",
       "218                 0.00171381                            3.80417e-05   \n",
       "\n",
       "    Eutrophisation marine (en eq. kg N)  \\\n",
       "31                            0.0763973   \n",
       "199                          0.00154375   \n",
       "219                         0.000338623   \n",
       "218                          0.00051385   \n",
       "\n",
       "    Eutrophisation terrestre (en eq. mol N)  \n",
       "31                                 0.516235  \n",
       "199                              0.00229033  \n",
       "219                              0.00879566  \n",
       "218                              0.00914471  "
      ]
     },
     "execution_count": 30,
     "metadata": {},
     "output_type": "execute_result"
    }
   ],
   "source": [
    "df_agri_tajine_bio = pd.concat([df_agri_bio[df_agri_bio[\"Nom du produit\"]==\"Lamb, biologique, système n ° 1, à la ferme / FR U\"],df_agri_nonbio[df_agri_nonbio[\"Nom du produit\"]==\"Oignon conventionnel, moyenne nationale, à la ferme / FR U\"],df_agri_bio[df_agri_bio[\"Nom du produit\"]==\"Tomate, biologique, la production à effet de serre, la moyenne nationale, à effet de serre / FR U\"],df_agri_bio[df_agri_bio[\"Nom du produit\"]==\"Courge, printemps, sous tunnel, porte biologique, à la ferme / FR U\"]])\n",
    "df_agri_tajine_bio"
   ]
  },
  {
   "cell_type": "markdown",
   "metadata": {},
   "source": [
    "*remarque : pour le tajine bio, nous avons bien sélectionné les mêmes aliments en version bio, hormis les oignons que nous avons repris dans le tableau non bio à défaut de les avoir trouvé dans le tableau bio*"
   ]
  },
  {
   "cell_type": "code",
   "execution_count": 31,
   "metadata": {},
   "outputs": [
    {
     "data": {
      "text/html": [
       "<div>\n",
       "<style scoped>\n",
       "    .dataframe tbody tr th:only-of-type {\n",
       "        vertical-align: middle;\n",
       "    }\n",
       "\n",
       "    .dataframe tbody tr th {\n",
       "        vertical-align: top;\n",
       "    }\n",
       "\n",
       "    .dataframe thead th {\n",
       "        text-align: right;\n",
       "    }\n",
       "</style>\n",
       "<table border=\"1\" class=\"dataframe\">\n",
       "  <thead>\n",
       "    <tr style=\"text-align: right;\">\n",
       "      <th></th>\n",
       "      <th>Changement climatique (en eq. kg CO2)</th>\n",
       "      <th>Appauvrissement de la couche d ozone (en eq. kg CFC11)</th>\n",
       "      <th>Rayonnements ionisants, effet sur la santé (en eq. kBq U-235)</th>\n",
       "      <th>Formation d ozone photochimique (en eq. kg NMVOC)</th>\n",
       "      <th>Substances inorganiques respiratoires (incidence de maladie)</th>\n",
       "      <th>Acidification (eq. mol H+)</th>\n",
       "      <th>Eutrophisation eau douce (en eq. kg P)</th>\n",
       "      <th>Eutrophisation marine (en eq. kg N)</th>\n",
       "      <th>Eutrophisation terrestre (en eq. mol N)</th>\n",
       "    </tr>\n",
       "  </thead>\n",
       "  <tbody>\n",
       "    <tr>\n",
       "      <th>0</th>\n",
       "      <td>1.963206</td>\n",
       "      <td>1.356262e-07</td>\n",
       "      <td>0.129528</td>\n",
       "      <td>0.002600</td>\n",
       "      <td>1.956281e-07</td>\n",
       "      <td>0.028132</td>\n",
       "      <td>0.000222</td>\n",
       "      <td>0.006767</td>\n",
       "      <td>0.121722</td>\n",
       "    </tr>\n",
       "    <tr>\n",
       "      <th>1</th>\n",
       "      <td>3.865129</td>\n",
       "      <td>7.112185e-08</td>\n",
       "      <td>0.061235</td>\n",
       "      <td>0.004864</td>\n",
       "      <td>1.931851e-07</td>\n",
       "      <td>0.029884</td>\n",
       "      <td>0.000184</td>\n",
       "      <td>0.019698</td>\n",
       "      <td>0.134116</td>\n",
       "    </tr>\n",
       "  </tbody>\n",
       "</table>\n",
       "</div>"
      ],
      "text/plain": [
       "   Changement climatique (en eq. kg CO2)  \\\n",
       "0                               1.963206   \n",
       "1                               3.865129   \n",
       "\n",
       "   Appauvrissement de la couche d ozone (en eq. kg CFC11)  \\\n",
       "0                                       1.356262e-07        \n",
       "1                                       7.112185e-08        \n",
       "\n",
       "   Rayonnements ionisants, effet sur la santé (en eq. kBq U-235)  \\\n",
       "0                                           0.129528               \n",
       "1                                           0.061235               \n",
       "\n",
       "   Formation d ozone photochimique (en eq. kg NMVOC)  \\\n",
       "0                                           0.002600   \n",
       "1                                           0.004864   \n",
       "\n",
       "   Substances inorganiques respiratoires (incidence de maladie)  \\\n",
       "0                                       1.956281e-07              \n",
       "1                                       1.931851e-07              \n",
       "\n",
       "   Acidification (eq. mol H+)  Eutrophisation eau douce (en eq. kg P)  \\\n",
       "0                    0.028132                                0.000222   \n",
       "1                    0.029884                                0.000184   \n",
       "\n",
       "   Eutrophisation marine (en eq. kg N)  \\\n",
       "0                             0.006767   \n",
       "1                             0.019698   \n",
       "\n",
       "   Eutrophisation terrestre (en eq. mol N)  \n",
       "0                                 0.121722  \n",
       "1                                 0.134116  "
      ]
     },
     "execution_count": 31,
     "metadata": {},
     "output_type": "execute_result"
    },
    {
     "data": {
      "text/plain": [
       "<matplotlib.legend.Legend at 0x2bd12535580>"
      ]
     },
     "execution_count": 31,
     "metadata": {},
     "output_type": "execute_result"
    },
    {
     "data": {
      "image/png": "[encoded data removed]",
      "text/plain": [
       "<Figure size 432x288 with 1 Axes>"
      ]
     },
     "metadata": {
      "needs_background": "light"
     },
     "output_type": "display_data"
    }
   ],
   "source": [
    "df_n_line_bio = pd.DataFrame([df_agri_tajine_bio.mean()], columns = [\"Changement climatique (en eq. kg CO2)\",\"Appauvrissement de la couche d ozone (en eq. kg CFC11)\",\"Rayonnements ionisants, effet sur la santé (en eq. kBq U-235)\",\"Formation d ozone photochimique (en eq. kg NMVOC)\",\"Substances inorganiques respiratoires (incidence de maladie)\",\"Acidification (eq. mol H+)\",\"Eutrophisation eau douce (en eq. kg P)\",\"Eutrophisation marine (en eq. kg N)\",\"Eutrophisation terrestre (en eq. mol N)\"])\n",
    "df_n_line_nonbio = pd.DataFrame([df_agri_tajine_nonbio.mean()], columns = [\"Changement climatique (en eq. kg CO2)\",\"Appauvrissement de la couche d ozone (en eq. kg CFC11)\",\"Rayonnements ionisants, effet sur la santé (en eq. kBq U-235)\",\"Formation d ozone photochimique (en eq. kg NMVOC)\",\"Substances inorganiques respiratoires (incidence de maladie)\",\"Acidification (eq. mol H+)\",\"Eutrophisation eau douce (en eq. kg P)\",\"Eutrophisation marine (en eq. kg N)\",\"Eutrophisation terrestre (en eq. mol N)\"])\n",
    "df_compa_tajine= pd.concat([df_n_line_nonbio,df_n_line_bio],ignore_index= True)\n",
    "df_compa_tajine\n",
    "df_compa_tajine.plot(kind='bar', stacked = True).legend(bbox_to_anchor=(1.1,1.05))"
   ]
  },
  {
   "cell_type": "markdown",
   "metadata": {},
   "source": [
    "Encore une fois, les résultats sont étonnants : l'impacte sur le changement climatique du tajine bio est largement supérieur à celui du tajine non bio, la différence se faisant sur l'agneau (impact_nonbio = 5 < impact_bio = 15)\n",
    "\n",
    "Heureusement, les nouvelles ne sont pas que négatives: les effets sur le rayonnemant ionistants et la santé sont tout de même largement inférieur pour le tajine bio que pour celui non bio. "
   ]
  }
 ],
 "metadata": {
  "kernelspec": {
   "display_name": "Python 3",
   "language": "python",
   "name": "python3"
  },
  "language_info": {
   "codemirror_mode": {
    "name": "ipython",
    "version": 3
   },
   "file_extension": ".py",
   "mimetype": "text/x-python",
   "name": "python",
   "nbconvert_exporter": "python",
   "pygments_lexer": "ipython3",
   "version": "3.8.3"
  }
 },
 "nbformat": 4,
 "nbformat_minor": 4
}
